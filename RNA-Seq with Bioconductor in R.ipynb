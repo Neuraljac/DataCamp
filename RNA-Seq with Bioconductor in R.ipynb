{
 "cells": [
  {
   "cell_type": "markdown",
   "id": "a7d07a6d",
   "metadata": {},
   "source": [
    "# RNA-Seq with Bioconductor in R"
   ]
  },
  {
   "cell_type": "markdown",
   "id": "9435eef0",
   "metadata": {},
   "source": [
    "## 1. Introduction to RNA-Seq theory and workflow\n",
    "### RNA-Seq Packages\n",
    "We will be using DESeq2 for performing the differential expression analysis and additional R packages for data wrangling and plotting. Before we can run any analyses, we need to load the following packages DESeq2, RColorBrewer, pheatmap, and tidyverse."
   ]
  },
  {
   "cell_type": "markdown",
   "id": "826f3022",
   "metadata": {},
   "source": [
    "#### Instructions\n",
    "Using library(), import the packages DESeq2, RColorBrewer, pheatmap, and tidyverse."
   ]
  },
  {
   "cell_type": "code",
   "execution_count": 1,
   "id": "0dd3d10e",
   "metadata": {},
   "outputs": [
    {
     "ename": "NameError",
     "evalue": "name 'library' is not defined",
     "output_type": "error",
     "traceback": [
      "\u001b[1;31m---------------------------------------------------------------------------\u001b[0m",
      "\u001b[1;31mNameError\u001b[0m                                 Traceback (most recent call last)",
      "Cell \u001b[1;32mIn[1], line 2\u001b[0m\n\u001b[0;32m      1\u001b[0m \u001b[38;5;66;03m# Load library for DESeq2\u001b[39;00m\n\u001b[1;32m----> 2\u001b[0m library(DESeq2)\n\u001b[0;32m      4\u001b[0m \u001b[38;5;66;03m# Load library for RColorBrewer\u001b[39;00m\n\u001b[0;32m      5\u001b[0m library(RColorBrewer)\n",
      "\u001b[1;31mNameError\u001b[0m: name 'library' is not defined"
     ]
    }
   ],
   "source": [
    "# Load library for DESeq2\n",
    "library(DESeq2)\n",
    "\n",
    "# Load library for RColorBrewer\n",
    "library(RColorBrewer)\n",
    "\n",
    "# Load library for pheatmap\n",
    "library(pheatmap)\n",
    "\n",
    "# Load library for tidyverse\n",
    "library(tidyverse)"
   ]
  },
  {
   "cell_type": "markdown",
   "id": "27a35c5f",
   "metadata": {},
   "source": [
    "### Exploring the raw count matrix\n",
    "Let's explore the contents of the raw count matrix. The dataset smoc2_rawcounts has already been loaded for you using the read.csv() function."
   ]
  },
  {
   "cell_type": "markdown",
   "id": "f8fd2a47",
   "metadata": {},
   "source": [
    "#### Instructions\n",
    "Explore the dataset smoc2_rawcounts using head() and str()"
   ]
  },
  {
   "cell_type": "code",
   "execution_count": null,
   "id": "3de933ca",
   "metadata": {},
   "outputs": [],
   "source": [
    "# Explore the first six observations of smoc2_rawcounts\n",
    "head(smoc2_rawcounts)\n",
    "\n",
    "# Explore the structure of smoc2_rawcounts\n",
    "str(smoc2_rawcounts)"
   ]
  },
  {
   "cell_type": "markdown",
   "id": "3c707ca2",
   "metadata": {},
   "source": [
    "### DGE Theory: Metadata\n",
    "Use the information below to create a metadata data frame for the fibrosis count data called metadata with columns genotype and condition. The sample names (e.g. smoc2_fibrosis1, smoc2_fibrosis2, etc.) should be the row names of the data frame:\n",
    "\n",
    "smoc2 metadata"
   ]
  },
  {
   "cell_type": "markdown",
   "id": "df67a035",
   "metadata": {},
   "source": [
    "#### Instructions \n",
    "Create a character vector called genotype for the above data using c().\n",
    "Create a character vector called condition for the above data using c().\n",
    "Create a data frame called smoc2_metadata using data.frame() and the genotype and condition character vectors.\n",
    "Create a vector of sample names using c() and assign it to the row names of the data frame using rownames()."
   ]
  },
  {
   "cell_type": "code",
   "execution_count": null,
   "id": "0317b5a5",
   "metadata": {},
   "outputs": [],
   "source": [
    "# Create genotype vector\n",
    "genotype <- c(\"smoc2_oe\", \"smoc2_oe\", \"smoc2_oe\", \"smoc2_oe\", \"smoc2_oe\", \"smoc2_oe\", \"smoc2_oe\")\n",
    "\n",
    "# Create condition vector\n",
    "condition <- c(\"fibrosis\", \"fibrosis\", \"fibrosis\", \"fibrosis\", \"normal\",\"normal\",\"normal\")\n",
    "\n",
    "# Create data frame\n",
    "smoc2_metadata <- data.frame(genotype, condition)\n",
    "\n",
    "# Assign the row names of the data frame\n",
    "rownames(smoc2_metadata) <- c(\"smoc2_fibrosis1\", \"smoc2_fibrosis2\", \"smoc2_fibrosis3\", \"smoc2_fibrosis4\", \"smoc2_normal1\", \"smoc2_normal3\", \"smoc2_normal4\")"
   ]
  },
  {
   "cell_type": "markdown",
   "id": "2b67b159",
   "metadata": {},
   "source": [
    "## 2. Exploratory Data Analysis"
   ]
  },
  {
   "cell_type": "markdown",
   "id": "bc1f9279",
   "metadata": {},
   "source": [
    "### Matching metadata and counts data\n",
    "To perform any analysis with DESeq2, we need to create a DESeq2 object by providing the raw counts, metadata, and design formula. To do this, we need to read in the raw counts data and associated metadata we created previously, make sure the sample names are in the same order in both datasets, then create a DESeq2 object to use for differential expression analysis. We will use the design formula ~ condition to test for differential expression between conditions (normal and fibrosis).\n",
    "\n",
    "The DESeq2 and dplyr libraries have been loaded for you, and the smoc2_rawcounts and smoc2_metadata files have been read in."
   ]
  },
  {
   "cell_type": "markdown",
   "id": "cf51981a",
   "metadata": {},
   "source": [
    "#### Instructions\n",
    "Use the match() function to return the indices for how to reorder the columns of the counts data to match the order of the row names of the metadata. Assign the result to reorder_idx.\n",
    "\n",
    "Reorder the columns of the count data with reorder_idx such that the column names match the order of the row names in the metadata.\n",
    "\n",
    "Create a DESeq2 object, dds_smoc2 using the DESeqDataSetFromMatrix() function using the metadata and reordered counts."
   ]
  },
  {
   "cell_type": "code",
   "execution_count": null,
   "id": "19acb2c1",
   "metadata": {},
   "outputs": [],
   "source": [
    "# Use the match() function to reorder the columns of the raw counts\n",
    "reorder_idx <- match(rownames(smoc2_metadata), colnames(smoc2_rawcounts))\n",
    "\n",
    "# Reorder the columns of the count data\n",
    "reordered_smoc2_rawcounts <- smoc2_rawcounts[ , reorder_idx]\n",
    "\n",
    "# Create a DESeq2 object\n",
    "dds_smoc2 <- DESeqDataSetFromMatrix(countData = reordered_smoc2_rawcounts,\n",
    "                              colData = smoc2_metadata,\n",
    "                              design = ~ condition)"
   ]
  },
  {
   "cell_type": "markdown",
   "id": "3c962ca4",
   "metadata": {},
   "source": [
    "### Normalizing counts with DESeq2\n",
    "We have created the DESeq2 object and now wish to perform quality control on our samples. Therefore, we need to generate the normalized counts (normalized for library size, which is the total number of gene counts per sample, while accounting for library composition). To obtain the normalized counts, use the DESeq2 object and generate the normalized counts matrix."
   ]
  },
  {
   "cell_type": "markdown",
   "id": "28d89633",
   "metadata": {},
   "source": [
    "#### Instructions\n",
    "Estimate the size factors for the smoc2 count data using the estimateSizeFactors() function and save back to the dds_smoc2 object\n",
    "\n",
    "Extract the normalized count values from dds_smoc2 and save as smoc2_normalized_counts using the counts() function."
   ]
  },
  {
   "cell_type": "code",
   "execution_count": null,
   "id": "c9a658aa",
   "metadata": {},
   "outputs": [],
   "source": [
    "# Determine the size factors to use for normalization\n",
    "dds_smoc2 <- estimateSizeFactors(dds_smoc2)\n",
    "\n",
    "# Extract the normalized counts\n",
    "smoc2_normalized_counts <- counts(dds_smoc2, normalized=TRUE)"
   ]
  },
  {
   "cell_type": "markdown",
   "id": "a894482c",
   "metadata": {},
   "source": [
    "### Hierarchical heatmap by condition\n",
    "When performing quality assessment of our count data, we need to transform the normalized counts for better visualization of the variance for unsupervised clustering analyses. To assess the similarity of the smoc2 samples using hierarchical heatmaps, transform the normalized counts and perform hierarchical clustering analysis. Assume all libraries have been loaded, the DESeq2 object created, and the size factors have been stored in the DESeq2 object, dds_smoc2."
   ]
  },
  {
   "cell_type": "markdown",
   "id": "cedbb063",
   "metadata": {},
   "source": [
    "#### Instructions\n",
    "Transform the normalized counts from the dds_smoc2 object using the vst() function with the blind argument and save to vsd_smoc2.\n",
    "Extract the matrix of transformed normalized counts from the vsd_smoc2 object using the assay() function and save as vsd_mat_smoc2.\n",
    "Calculate the correlation values between samples and save to vsd_cor_smoc2.\n",
    "Create a heatmap of the correlation values using pheatmap() with an annotation bar designating condition from the smoc2_metadata data frame."
   ]
  },
  {
   "cell_type": "code",
   "execution_count": null,
   "id": "984f627d",
   "metadata": {},
   "outputs": [],
   "source": [
    "# Transform the normalized counts \n",
    "vsd_smoc2 <- vst(dds_smoc2, blind=TRUE)\n",
    "\n",
    "# Extract the matrix of transformed counts\n",
    "vsd_mat_smoc2 <- assay(vsd_smoc2)\n",
    "\n",
    "# Compute the correlation values between samples\n",
    "vsd_cor_smoc2 <- cor(vsd_mat_smoc2) \n",
    "\n",
    "# Plot the heatmap\n",
    "pheatmap(vsd_cor_smoc2, annotation = select(smoc2_metadata, condition))"
   ]
  },
  {
   "cell_type": "markdown",
   "id": "8df754f8",
   "metadata": {},
   "source": [
    "### PCA analysis\n",
    "To continue with the quality assessment of our samples, in the first part of this exercise, we will perform PCA to look how our samples cluster and whether our condition of interest corresponds with the principal components explaining the most variation in the data. In the second part, we will answer questions about the PCA plot.\n",
    "\n",
    "To assess the similarity of the smoc2 samples using PCA, we need to transform the normalized counts then perform the PCA analysis. Assume all libraries have been loaded, the DESeq2 object created, and the size factors have been stored in the DESeq2 object, dds_smoc2."
   ]
  },
  {
   "cell_type": "markdown",
   "id": "8355d612",
   "metadata": {},
   "source": [
    "#### Instructions\n",
    "Run the code to transform the normalized counts.\n",
    "Perform PCA by plotting PC1 vs PC2 using the DESeq2 plotPCA() function on the DESeq2 transformed counts object, vsd_smoc2 and specify the intgroup argument as the factor to color the plot."
   ]
  },
  {
   "cell_type": "code",
   "execution_count": null,
   "id": "6ec95fca",
   "metadata": {},
   "outputs": [],
   "source": [
    "# Transform the normalized counts \n",
    "vsd_smoc2 <- vst(dds_smoc2, blind = TRUE)\n",
    "\n",
    "# Plot the PCA of PC1 and PC2\n",
    "plotPCA(vsd_smoc2, intgroup=\"condition\")"
   ]
  },
  {
   "cell_type": "markdown",
   "id": "53df3f54",
   "metadata": {},
   "source": [
    "## 3. Differential expression analysis with DESeq2"
   ]
  },
  {
   "cell_type": "markdown",
   "id": "8fc6d192",
   "metadata": {},
   "source": [
    "### Creating the DE object\n",
    "NOTE: It may take a bit longer to load this exercise.\n",
    "\n",
    "Using our smoc2 overexpression samples, create the DESeq2 object such that the design formula specifies the comparison of the expression differences between the fibrosis and normal samples. The metadata for the experiment is displayed below. We have the data read in with the samples in the same order for the smoc2 raw counts, reordered_smoc2_rawcounts, and the metadata, smoc2_metadata.\n",
    "\n",
    "smoc2 metadata"
   ]
  },
  {
   "cell_type": "markdown",
   "id": "7ec27f59",
   "metadata": {},
   "source": [
    "#### Instructions\n",
    "Create a DESeq2 object called dds_smoc2 using the DESeqDataSetFromMatrix() function by specifying the arguments: countData, colData, and design.\n",
    "\n",
    "Run the DESeq() function to estimate the size factors, calculate the dispersions, and perform the model fitting and testing."
   ]
  },
  {
   "cell_type": "code",
   "execution_count": null,
   "id": "bcb3127f",
   "metadata": {},
   "outputs": [],
   "source": [
    "# Create DESeq2 object\n",
    "dds_smoc2 <- DESeqDataSetFromMatrix(countData = reordered_smoc2_rawcounts,\n",
    "                 colData = smoc2_metadata,\n",
    "                 design = ~ condition)\n",
    "\n",
    "# Run the DESeq2 analysis\n",
    "estimateSizeFactors <- DESeq(dds_smoc2)"
   ]
  },
  {
   "cell_type": "markdown",
   "id": "daeeb217",
   "metadata": {},
   "source": [
    "### DESeq2 model - exploring dispersions\n",
    "NOTE: It may take a bit longer to load this exercise.\n",
    "\n",
    "After fitting the model in the previous exercise, let's explore the fit of our smoc2 data to the negative binomial model by plotting the dispersion estimates using the plotDispEsts() function. Remember that the dispersion estimates are used to model the raw counts; if the dispersions don't follow the assumptions made by DESeq2, then the variation in the data could be poorly estimated and the DE results could be less accurate.\n",
    "\n",
    "The assumptions DESeq2 makes are that the dispersions should generally decrease with increasing mean and that they should more or less follow the fitted line."
   ]
  },
  {
   "cell_type": "markdown",
   "id": "02799a85",
   "metadata": {},
   "source": [
    "#### Instructions\n",
    "Plot the dispersion estimates for the smoc2 data using the plotDispEsts() function. Assume all prior steps have been executed, including the creation of the DESeq2 object, dds_smoc2 and running the DESeq() function."
   ]
  },
  {
   "cell_type": "code",
   "execution_count": null,
   "id": "4a0d6355",
   "metadata": {},
   "outputs": [],
   "source": [
    "# Plot dispersions\n",
    "plotDispEsts(dds_smoc2)"
   ]
  },
  {
   "cell_type": "markdown",
   "id": "cf3a6735",
   "metadata": {},
   "source": [
    "### DESeq2 model - extracting results\n",
    "NOTE: It may take a bit longer to load this exercise.\n",
    "\n",
    "After exploring the dispersions and deciding the data fits the DESeq2 model well, we want to extract the results.\n",
    "\n",
    "Assume all prior steps have been executed, including the creation of the DESeq2 object, dds_smoc2, and running the DESeq() function.\n"
   ]
  },
  {
   "cell_type": "markdown",
   "id": "fe328a70",
   "metadata": {},
   "source": [
    "#### Instructions\n",
    "Use the results() function to specify the contrast for the comparison using an alpha of 0.05. For the condition of interest, condition, output the results for the fibrosis sample group relative to the normal sample group, so that the normal sample group is the base level."
   ]
  },
  {
   "cell_type": "code",
   "execution_count": null,
   "id": "ec65a98e",
   "metadata": {},
   "outputs": [],
   "source": [
    "# Extract the results of the differential expression analysis\n",
    "smoc2_res <- results(dds_smoc2, \n",
    "                contrast = c(\"condition\", \"fibrosis\", \"normal\"), \n",
    "                alpha = 0.05)"
   ]
  },
  {
   "cell_type": "markdown",
   "id": "36c45b90",
   "metadata": {},
   "source": [
    "### DESeq2 results - LFC shrinkage\n",
    "NOTE: It may take a bit longer to load this exercise.\n",
    "\n",
    "To improve the fold change estimates for our data, we want to take our results and shrink the log2 fold changes using the lfcShrink() function.\n",
    "\n",
    "Assume all prior steps have been executed, including the creation of the DESeq2 object, dds_smoc2, running the DESeq() function, and extracting the results, smoc2_res."
   ]
  },
  {
   "cell_type": "markdown",
   "id": "ccabb35a",
   "metadata": {},
   "source": [
    "#### Instructions\n",
    "Perform shrinkage of the log2 foldchanges using the lfcShrink() function."
   ]
  },
  {
   "cell_type": "code",
   "execution_count": null,
   "id": "689d504a",
   "metadata": {},
   "outputs": [],
   "source": [
    "# Shrink the log2 fold change estimates to be more accurate\n",
    "smoc2_res <- lfcShrink(dds_smoc2, \n",
    "                    contrast =  c(\"condition\", \"fibrosis\", \"normal\"),\n",
    "                    res = smoc2_res)"
   ]
  },
  {
   "cell_type": "markdown",
   "id": "1ee0cc2e",
   "metadata": {},
   "source": [
    "### DESeq2 results exploration\n",
    "NOTE: It may take a bit longer to load this exercise.\n",
    "\n",
    "To reduce the number of DE genes that we are returning and to reduce the likelihood of the DE genes being biologically meaningful, we are going to use a small log2 fold change threshold to determine the DE genes."
   ]
  },
  {
   "cell_type": "markdown",
   "id": "de56795b",
   "metadata": {},
   "source": [
    "#### Instructions\n",
    "Extract the smoc2 results using the results() function, similar to before, with an alpha of 0.05 and with normal as the base level of condition. However, this time use a log2 fold change threshold of 0.32. Assume all prior steps have been executed, including the creation of the DESeq2 object, dds_smoc2, and running the DESeq() function.\n",
    "\n",
    "Perform shrinkage of the log2 foldchanges using the lfcShrink() function."
   ]
  },
  {
   "cell_type": "code",
   "execution_count": null,
   "id": "849cd683",
   "metadata": {},
   "outputs": [],
   "source": [
    "# Explore the results() function\n",
    "?results\n",
    "\n",
    "# Extract results\n",
    "smoc2_res <- results(dds_smoc2, \n",
    "                contrast = c(\"condition\", \"fibrosis\", \"normal\"), \n",
    "                alpha = 0.05, \n",
    "                lfcThreshold = 0.32)\n",
    "\n",
    "# Shrink the log2 fold changes\n",
    "smoc2_res <- lfcShrink(dds_smoc2, \n",
    "                    contrast = c(\"condition\", \"fibrosis\", \"normal\"), \n",
    "                    res = smoc2_res)"
   ]
  },
  {
   "cell_type": "markdown",
   "id": "ba180dac",
   "metadata": {},
   "source": [
    "### Summarizing DESeq2 results\n",
    "NOTE: It may take a bit longer to load this exercise.\n",
    "\n",
    "Now that we have extracted our results, we can get a nice overview of the number of differentially expressed genes there are for our designated alpha level using the summary() function. It will output the numbers/percentages of up- and down-regulated genes, as well as, give information about independent filtering and outliers removed.\n"
   ]
  },
  {
   "cell_type": "markdown",
   "id": "a41f2984",
   "metadata": {},
   "source": [
    "#### Instructions\n",
    "Check how many genes are differentially expressed in our results, smoc2_res, using DESeq2's summary() function."
   ]
  },
  {
   "cell_type": "code",
   "execution_count": null,
   "id": "6aa6e37e",
   "metadata": {},
   "outputs": [],
   "source": [
    "# Get an overview of the results                    \n",
    "summary(smoc2_res)"
   ]
  },
  {
   "cell_type": "markdown",
   "id": "0eef64ae",
   "metadata": {},
   "source": [
    "### DESeq2 significant results\n",
    "NOTE: It may take a bit longer to load this exercise.\n",
    "\n",
    "Now let's extract the significant results! Assume that we have the extracted results from the previous exercise, smoc2_res."
   ]
  },
  {
   "cell_type": "markdown",
   "id": "a8eec7f0",
   "metadata": {},
   "source": [
    "#### Instructions\n",
    "Save the results, smoc2_res, as a data frame using the data.frame() function on the results object.\n",
    "\n",
    "Extract the significant genes with p-adjusted values less than 0.05 (the alpha value) using the subset() function."
   ]
  },
  {
   "cell_type": "code",
   "execution_count": null,
   "id": "5b3d8da4",
   "metadata": {},
   "outputs": [],
   "source": [
    "# Save results as a data frame\n",
    "smoc2_res_all <- data.frame(smoc2_res)\n",
    "\n",
    "# Subset the results to only return the significant genes with p-adjusted values less than 0.05\n",
    "smoc2_res_sig <- subset(smoc2_res, padj < 0.05)"
   ]
  },
  {
   "cell_type": "markdown",
   "id": "c8cb95f5",
   "metadata": {},
   "source": [
    "## 4. Exploration of differential equation results"
   ]
  },
  {
   "cell_type": "markdown",
   "id": "d52d4505",
   "metadata": {},
   "source": [
    "### DESeq2 visualizations - MA and volcano plots\n",
    "NOTE: It may take a bit longer to load this exercise.\n",
    "\n",
    "To explore the results, visualizations can be helpful to see a global view of the data, as well as, characteristics of the significant genes. Usually, we expect to see significant genes identified across the range of mean values, which we can plot using the MA plot. If we only see significant genes with high mean values, then it could indicate an issue with our data. The volcano plot helps us to get an idea of the range of fold changes needed to identify significance in our data.\n",
    "\n",
    "Let's explore our results using MA plots and volcano plots.\n"
   ]
  },
  {
   "cell_type": "markdown",
   "id": "e1909cc2",
   "metadata": {},
   "source": [
    "#### Instructions\n",
    "Create an MA plot using the plotMA() function and using the results object, smoc2_res as input.\n",
    "\n",
    "Create a new column as a logical vector regarding whether padj values are less than 0.05 for the results using the mutate() function.\n",
    "\n",
    "Create a volcano plot of the log2 foldchange values versus the -log10 adjusted p-value using ggplot() and coloring the points for the genes by whether or not they are significant."
   ]
  },
  {
   "cell_type": "code",
   "execution_count": null,
   "id": "b64011e9",
   "metadata": {},
   "outputs": [],
   "source": [
    "# Create MA plot\n",
    "plotMA(smoc2_res)\n",
    "\n",
    "# Generate logical column \n",
    "smoc2_res_all <- data.frame(smoc2_res) %>% mutate(threshold = padj < 0.05)\n",
    "              \n",
    "# Create the volcano plot\n",
    "ggplot(smoc2_res_all) + \n",
    "        geom_point(aes(x = log2FoldChange, y = -log10(padj), color = threshold)) + \n",
    "        xlab(\"log2 fold change\") + \n",
    "        ylab(\"-log10 adjusted p-value\") + \n",
    "        theme(legend.position = \"none\", \n",
    "              plot.title = element_text(size = rel(1.5), hjust = 0.5), \n",
    "              axis.title = element_text(size = rel(1.25)))"
   ]
  },
  {
   "cell_type": "markdown",
   "id": "2bda2e94",
   "metadata": {},
   "source": [
    "### DESeq2 visualizations - heatmap\n",
    "NOTE: It may take a bit longer to load this exercise.\n",
    "\n",
    "Visualizations can also be helpful in exploring the significant genes in more detail. The expression heatmap can be helpful in looking at how different the expression of all significant genes are between sample groups, while the expression plot can look at the top significant genes or choose individual genes of interest to investigate the expression levels between samplegroups."
   ]
  },
  {
   "cell_type": "markdown",
   "id": "fe7e6342",
   "metadata": {},
   "source": [
    "#### Instructions\n",
    "Subset the normalized counts to only include the significant genes. Use the row names of the smoc2_res_sig significant results to subset the normalized counts, normalized_counts_smoc2.\n",
    "\n",
    "Create the heatmap using sig_norm_counts_smoc2. Color the heatmap using the palette, heat_colors, cluster the rows without showing row names, and scale the values by \"row\". For the annotation, use select() to select only the condition column from the smoc2_metadata."
   ]
  },
  {
   "cell_type": "code",
   "execution_count": null,
   "id": "d61c2b3f",
   "metadata": {},
   "outputs": [],
   "source": [
    "# Subset normalized counts to significant genes\n",
    "sig_norm_counts_smoc2 <- normalized_counts_smoc2[rownames(smoc2_res_sig), ]\n",
    "\n",
    "# Choose heatmap color palette\n",
    "heat_colors <- brewer.pal(n = 6, name = \"YlOrRd\")\n",
    "\n",
    "# Plot heatmap\n",
    "pheatmap(sig_norm_counts_smoc2, \n",
    "         color = heat_colors, \n",
    "         cluster_rows = TRUE, \n",
    "         show_rownames = FALSE,\n",
    "         annotation = select(smoc2_metadata, condition), \n",
    "         scale = \"row\")"
   ]
  },
  {
   "cell_type": "markdown",
   "id": "bcbebcb7",
   "metadata": {},
   "source": [
    "### RNA-Seq DE workflow summary\n",
    "NOTE: It may take a bit longer to load this exercise.\n",
    "\n",
    "Let's run through the DESeq2 workflow using the full dataset with both wildtype and smoc2 overexpression samples included. We have loaded the DESeq2 and dplyr libraries and read in the metadata file, all_metadata and the raw counts file, all_rawcounts for you.\n",
    "\n",
    "full metadata"
   ]
  },
  {
   "cell_type": "markdown",
   "id": "782037a8",
   "metadata": {},
   "source": [
    "#### Instructions\n",
    "Check that the samples are in the same order in both all_rawcounts and all_metadata using the rownames(), colnames(), all(), and %in% operator.\n",
    "Create the DESeq2 object using the appropriate design, testing for the effect of condition while controlling for genotype.\n",
    "Create the DESeq2 object using the appropriate design, controlling for genotype and condition individually, but test for genotype:condition."
   ]
  },
  {
   "cell_type": "code",
   "execution_count": null,
   "id": "20fc86fe",
   "metadata": {},
   "outputs": [],
   "source": [
    "# Check that all of the samples are in the same order in the metadata and count data\n",
    "all(rownames(all_metadata) %in% colnames(all_rawcounts))\n",
    "\n",
    "# DESeq object to test for the effect of fibrosis regardless of genotype\n",
    "dds_all <- DESeqDataSetFromMatrix(countData = all_rawcounts,\n",
    "                        colData = all_metadata,\n",
    "                        design = ~ genotype + condition)\n",
    "\n",
    "# DESeq object to test for the effect of genotype on the effect of fibrosis                        \n",
    "dds_complex <- DESeqDataSetFromMatrix(countData = all_rawcounts,\n",
    "                                colData = all_metadata,\n",
    "                                design = ~ genotype + condition + genotype:condition)"
   ]
  },
  {
   "cell_type": "markdown",
   "id": "13b6bb82",
   "metadata": {},
   "source": [
    "### DE analysis\n",
    "NOTE: It may take a bit longer to load this exercise.\n",
    "\n",
    "We are going to continue using the full dataset comparing the genes that exhibit significant expression differences between normal and fibrosis samples regardless of genotype (design: ~ genotype + condition). Therefore, we will use our dds_all DESeq2 object created in the previous exercise. Assume this object is created and all libraries are loaded. In this exercise let's perform the unsupervised clustering analyses to explore the clustering of our samples and sources of variation."
   ]
  },
  {
   "cell_type": "markdown",
   "id": "89dce2da",
   "metadata": {},
   "source": [
    "#### Instructions\n",
    "Log transform the normalized counts inside the dds_all object using the vst() function, being blind to sample group information.\n",
    "\n",
    "Create the correlation heatmap of the correlation values of the log normalized counts using the pheatmap() function. Include annotation bars for genotype and condition.\n",
    "\n",
    "Plot the PCA with the plotPCA() function using vsd_all. Color the plot by condition.\n",
    "\n",
    "Plot the PCA with the plotPCA() function using vsd_all. Color the plot by genotype."
   ]
  },
  {
   "cell_type": "code",
   "execution_count": null,
   "id": "63052f6f",
   "metadata": {},
   "outputs": [],
   "source": [
    "# Log transform counts for QC\n",
    "vsd_all <- vst(dds_all, blind = TRUE)\n",
    "\n",
    "# Create heatmap of sample correlation values\n",
    "vsd_all %>% \n",
    "        assay() %>%\n",
    "        cor() %>%\n",
    "        pheatmap(annotation = select(all_metadata, c(\"condition\", \"genotype\")))\n",
    "\n",
    "# Create the PCA plot for PC1 and PC2 and color by condition       \n",
    "plotPCA(vsd_all, intgroup = \"condition\")\n",
    "\n",
    "# Create the PCA plot for PC1 and PC2 and color by genotype       \n",
    "plotPCA(vsd_all, intgroup = \"genotype\")"
   ]
  },
  {
   "cell_type": "markdown",
   "id": "5561ee21",
   "metadata": {},
   "source": [
    "### DE analysis results\n",
    "After exploring the PCA and correlation heatmap, we found good clustering of our samples on PC1, which seemed to represent the variation in the data due to fibrosis, and PC2, which appeared to represent variation in the data due to smoc2 overexpression. We did not find additional sources of variation in the data, nor any outliers to remove. Therefore, we can proceed by running DESeq2, DE testing, and shrinking the fold changes. We performed these steps for you to generate the final results, res_all.\n",
    "\n",
    "In this exercise, we'll want to subset the significant genes from the results and output the top 10 DE genes by adjusted p-value."
   ]
  },
  {
   "cell_type": "markdown",
   "id": "5c2ca0e9",
   "metadata": {},
   "source": [
    "#### Instructions\n",
    "Use the subset() function to extract those values with an adjusted p-value less than 0.05. Save the subset as a data frame named smoc2_sig by using the data.frame() function and turning the row names to a column named geneID using the rownames_to_column() function.\n",
    "\n",
    "Order the significant results by adjusted p-values using the arrange() function, select the columns with Ensembl gene ID and adjusted p-values, and output the top significant genes using head()."
   ]
  },
  {
   "cell_type": "code",
   "execution_count": null,
   "id": "8de9699c",
   "metadata": {},
   "outputs": [],
   "source": [
    "# Select significant genese with padj < 0.05\n",
    "smoc2_sig <- subset(res_all, padj < 0.05) %>%\n",
    "  \t\t\t\tdata.frame() %>%\n",
    "  \t\t\t\trownames_to_column(var = \"geneID\")\n",
    "\n",
    "# Extract the top 6 genes with padj values\n",
    "smoc2_sig %>%\n",
    "\tarrange(padj) %>%\n",
    "\tselect(geneID, padj) %>%\n",
    "\thead()"
   ]
  },
  {
   "cell_type": "code",
   "execution_count": null,
   "id": "c16740c1",
   "metadata": {},
   "outputs": [],
   "source": []
  },
  {
   "cell_type": "markdown",
   "id": "b01f60ee",
   "metadata": {},
   "source": [
    "###  "
   ]
  }
 ],
 "metadata": {
  "kernelspec": {
   "display_name": "Python 3 (ipykernel)",
   "language": "python",
   "name": "python3"
  },
  "language_info": {
   "codemirror_mode": {
    "name": "ipython",
    "version": 3
   },
   "file_extension": ".py",
   "mimetype": "text/x-python",
   "name": "python",
   "nbconvert_exporter": "python",
   "pygments_lexer": "ipython3",
   "version": "3.11.3"
  }
 },
 "nbformat": 4,
 "nbformat_minor": 5
}
