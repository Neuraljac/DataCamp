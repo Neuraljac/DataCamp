{
 "cells": [
  {
   "cell_type": "markdown",
   "id": "a3c94444",
   "metadata": {},
   "source": [
    "# Introduction to R\n",
    "This notebook contains my notes for the DataCamp course, Intro to R."
   ]
  },
  {
   "cell_type": "markdown",
   "id": "6458870c",
   "metadata": {},
   "source": [
    "## 1. Intro to Basics\n",
    "### How it works\n",
    "In the editor on the right you should type R code to solve the exercises. When you hit the 'Submit Answer' button, every line of code is interpreted and executed by R and you get a message whether or not your code was correct. The output of your R code is shown in the console in the lower right corner.\n",
    "\n",
    "R makes use of the # sign to add comments, so that you and others can understand what the R code is about. Just like Twitter! Comments are not run as R code, so they will not influence your result. For example, Calculate 3 + 4 in the editor on the right is a comment.\n",
    "\n",
    "You can also execute R commands straight in the console. This is a good way to experiment with R code, as your submission is not checked for correctness."
   ]
  },
  {
   "cell_type": "markdown",
   "id": "f9874272",
   "metadata": {},
   "source": [
    "In the editor on the right there is already some sample code. Can you see which lines are actual R code and which are comments?\n",
    "Add a line of code that calculates the sum of 6 and 12, and hit the 'Submit Answer' button."
   ]
  },
  {
   "cell_type": "code",
   "execution_count": 1,
   "id": "94f8b688",
   "metadata": {},
   "outputs": [
    {
     "data": {
      "text/plain": [
       "18"
      ]
     },
     "execution_count": 1,
     "metadata": {},
     "output_type": "execute_result"
    }
   ],
   "source": [
    "# Calculate 3 + 4\n",
    "3 + 4\n",
    "\n",
    "# Calculate 6 + 12\n",
    "6 + 12"
   ]
  },
  {
   "cell_type": "markdown",
   "id": "c768260b",
   "metadata": {},
   "source": [
    "### Arithmetic with R\n",
    "In its most basic form, R can be used as a simple calculator. Consider the following arithmetic operators:\n",
    "\n",
    "Addition: +\n",
    "Subtraction: -\n",
    "Multiplication: *\n",
    "Division: /\n",
    "Exponentiation: ^\n",
    "Modulo: %%\n",
    "The last two might need some explaining:\n",
    "\n",
    "The ^ operator raises the number to its left to the power of the number to its right: for example 3^2 is 9.\n",
    "The modulo returns the remainder of the division of the number to the left by the number on its right, for example 5 modulo 3 or 5 %% 3 is 2.\n",
    "With this knowledge, follow the instructions to complete the exercise."
   ]
  },
  {
   "cell_type": "markdown",
   "id": "ade271f6",
   "metadata": {},
   "source": [
    "#### Instructions\n",
    "Type 2^5 in the editor to calculate 2 to the power 5.\n",
    "Type 28 %% 6 to calculate 28 modulo 6.\n",
    "Submit the answer and have a look at the R output in the console.\n",
    "Note how the # symbol is used to add comments on the R code."
   ]
  },
  {
   "cell_type": "code",
   "execution_count": 2,
   "id": "c72ae4bd",
   "metadata": {},
   "outputs": [
    {
     "ename": "SyntaxError",
     "evalue": "invalid syntax (1335428253.py, line 17)",
     "output_type": "error",
     "traceback": [
      "\u001b[1;36m  Cell \u001b[1;32mIn[2], line 17\u001b[1;36m\u001b[0m\n\u001b[1;33m    28 %% 6\u001b[0m\n\u001b[1;37m        ^\u001b[0m\n\u001b[1;31mSyntaxError\u001b[0m\u001b[1;31m:\u001b[0m invalid syntax\n"
     ]
    }
   ],
   "source": [
    "# An addition\n",
    "5 + 5 \n",
    "\n",
    "# A subtraction\n",
    "5 - 5 \n",
    "\n",
    "# A multiplication\n",
    "3 * 5\n",
    "\n",
    " # A division\n",
    "(5 + 5) / 2 \n",
    "\n",
    "# Exponentiation\n",
    "2^5\n",
    "\n",
    "# Modulo\n",
    "28 %% 6"
   ]
  },
  {
   "cell_type": "markdown",
   "id": "b82d1a0b",
   "metadata": {},
   "source": [
    "### Variable assignment\n",
    "A basic concept in (statistical) programming is called a variable.\n",
    "\n",
    "A variable allows you to store a value (e.g. 4) or an object (e.g. a function description) in R. You can then later use this variable's name to easily access the value or the object that is stored within this variable.\n",
    "\n",
    "You can assign a value 4 to a variable my_var with the command\n",
    "\n",
    "my_var <- 4 "
   ]
  },
  {
   "cell_type": "markdown",
   "id": "16fc5fa4",
   "metadata": {},
   "source": [
    "#### Instructions\n",
    "Over to you: complete the code in the editor such that it assigns the value 42 to the variable x in the editor. Submit the answer. Notice that when you ask R to print x, the value 42 appears."
   ]
  },
  {
   "cell_type": "code",
   "execution_count": 3,
   "id": "97b703cf",
   "metadata": {},
   "outputs": [
    {
     "ename": "NameError",
     "evalue": "name 'x' is not defined",
     "output_type": "error",
     "traceback": [
      "\u001b[1;31m---------------------------------------------------------------------------\u001b[0m",
      "\u001b[1;31mNameError\u001b[0m                                 Traceback (most recent call last)",
      "Cell \u001b[1;32mIn[3], line 2\u001b[0m\n\u001b[0;32m      1\u001b[0m \u001b[38;5;66;03m# Assign the value 42 to x\u001b[39;00m\n\u001b[1;32m----> 2\u001b[0m x \u001b[38;5;241m<\u001b[39m\u001b[38;5;241m-\u001b[39m \u001b[38;5;241m42\u001b[39m\n\u001b[0;32m      4\u001b[0m \u001b[38;5;66;03m# Print out the value of the variable x\u001b[39;00m\n\u001b[0;32m      5\u001b[0m x\n",
      "\u001b[1;31mNameError\u001b[0m: name 'x' is not defined"
     ]
    }
   ],
   "source": [
    "# Assign the value 42 to x\n",
    "x <- 42\n",
    "\n",
    "# Print out the value of the variable x\n",
    "x"
   ]
  },
  {
   "cell_type": "markdown",
   "id": "f22611fa",
   "metadata": {},
   "source": [
    "### Variable assignment (2)\n",
    "Suppose you have a fruit basket with five apples. As a data analyst in training, you want to store the number of apples in a variable with the name my_apples."
   ]
  },
  {
   "cell_type": "markdown",
   "id": "caeec860",
   "metadata": {},
   "source": [
    "#### Instructions\n",
    "Type the following code in the editor: my_apples <- 5. This will assign the value 5 to my_apples.\n",
    "Type: my_apples below the second comment. This will print out the value of my_apples.\n",
    "Submit your answer, and look at the output: you see that the number 5 is printed. So R now links the variable my_apples to the value 5."
   ]
  },
  {
   "cell_type": "code",
   "execution_count": 4,
   "id": "6ffd16b4",
   "metadata": {},
   "outputs": [
    {
     "ename": "NameError",
     "evalue": "name 'my_apples' is not defined",
     "output_type": "error",
     "traceback": [
      "\u001b[1;31m---------------------------------------------------------------------------\u001b[0m",
      "\u001b[1;31mNameError\u001b[0m                                 Traceback (most recent call last)",
      "Cell \u001b[1;32mIn[4], line 2\u001b[0m\n\u001b[0;32m      1\u001b[0m \u001b[38;5;66;03m# Assign the value 5 to the variable my_apples\u001b[39;00m\n\u001b[1;32m----> 2\u001b[0m my_apples \u001b[38;5;241m<\u001b[39m\u001b[38;5;241m-\u001b[39m \u001b[38;5;241m5\u001b[39m\n\u001b[0;32m      4\u001b[0m \u001b[38;5;66;03m# Print out the value of the variable my_apples\u001b[39;00m\n\u001b[0;32m      5\u001b[0m my_apples\n",
      "\u001b[1;31mNameError\u001b[0m: name 'my_apples' is not defined"
     ]
    }
   ],
   "source": [
    "# Assign the value 5 to the variable my_apples\n",
    "my_apples <- 5\n",
    "\n",
    "# Print out the value of the variable my_apples\n",
    "my_apples"
   ]
  },
  {
   "cell_type": "markdown",
   "id": "de876f66",
   "metadata": {},
   "source": [
    "### Variable assignment (3)\n",
    "Every tasty fruit basket needs oranges, so you decide to add six oranges. As a data analyst, your reflex is to immediately create the variable my_oranges and assign the value 6 to it. Next, you want to calculate how many pieces of fruit you have in total. Since you have given meaningful names to these values, you can now code this in a clear way:\n",
    "\n",
    "my_apples + my_oranges"
   ]
  },
  {
   "cell_type": "markdown",
   "id": "77fb757e",
   "metadata": {},
   "source": [
    "#### Instructions\n",
    "Assign to my_oranges the value 6.\n",
    "Add the variables my_apples and my_oranges and have R simply print the result.\n",
    "Assign the result of adding my_apples and my_oranges to a new variable my_fruit."
   ]
  },
  {
   "cell_type": "code",
   "execution_count": 5,
   "id": "b2b91034",
   "metadata": {},
   "outputs": [
    {
     "ename": "NameError",
     "evalue": "name 'my_apples' is not defined",
     "output_type": "error",
     "traceback": [
      "\u001b[1;31m---------------------------------------------------------------------------\u001b[0m",
      "\u001b[1;31mNameError\u001b[0m                                 Traceback (most recent call last)",
      "Cell \u001b[1;32mIn[5], line 2\u001b[0m\n\u001b[0;32m      1\u001b[0m \u001b[38;5;66;03m# Assign a value to the variables my_apples and my_oranges\u001b[39;00m\n\u001b[1;32m----> 2\u001b[0m my_apples \u001b[38;5;241m<\u001b[39m\u001b[38;5;241m-\u001b[39m \u001b[38;5;241m5\u001b[39m\n\u001b[0;32m      3\u001b[0m my_oranges \u001b[38;5;241m<\u001b[39m\u001b[38;5;241m-\u001b[39m \u001b[38;5;241m6\u001b[39m\n\u001b[0;32m      5\u001b[0m \u001b[38;5;66;03m# Add these two variables together\u001b[39;00m\n",
      "\u001b[1;31mNameError\u001b[0m: name 'my_apples' is not defined"
     ]
    }
   ],
   "source": [
    "# Assign a value to the variables my_apples and my_oranges\n",
    "my_apples <- 5\n",
    "my_oranges <- 6\n",
    "\n",
    "# Add these two variables together\n",
    "my_apples + my_oranges\n",
    "\n",
    "# Create the variable my_fruit\n",
    "my_fruit <- my_apples + my_oranges"
   ]
  },
  {
   "cell_type": "markdown",
   "id": "8f6575c1",
   "metadata": {},
   "source": [
    "### Apples and oranges\n",
    "Common knowledge tells you not to add apples and oranges. But hey, that is what you just did, no :-)? The my_apples and my_oranges variables both contained a number in the previous exercise. The + operator works with numeric variables in R. If you really tried to add \"apples\" and \"oranges\", and assigned a text value to the variable my_oranges (see the editor), you would be trying to assign the addition of a numeric and a character variable to the variable my_fruit. This is not possible."
   ]
  },
  {
   "cell_type": "markdown",
   "id": "e330d08d",
   "metadata": {},
   "source": [
    "#### Instructions\n",
    "Submit the answer and read the error message. Make sure to understand why this did not work.\n",
    "Adjust the code so that R knows you have 6 oranges and thus a fruit basket with 11 pieces of fruit."
   ]
  },
  {
   "cell_type": "code",
   "execution_count": null,
   "id": "1cbe7331",
   "metadata": {},
   "outputs": [],
   "source": [
    "# Assign a value to the variable my_apples\n",
    "my_apples <- 5 \n",
    "\n",
    "# Fix the assignment of my_oranges\n",
    "my_oranges <- 6 \n",
    "\n",
    "# Create the variable my_fruit and print it out\n",
    "my_fruit <- my_apples + my_oranges \n",
    "my_fruit"
   ]
  },
  {
   "cell_type": "markdown",
   "id": "decaa7fb",
   "metadata": {},
   "source": [
    "### Basic data types in R\n",
    "R works with numerous data types. Some of the most basic types to get started are:\n",
    "\n",
    "Decimal values like 4.5 are called numerics.\n",
    "Whole numbers like 4 are called integers. Integers are also numerics.\n",
    "Boolean values (TRUE or FALSE) are called logical.\n",
    "Text (or string) values are called characters.\n",
    "Note how the quotation marks in the editor indicate that \"some text\" is a string."
   ]
  },
  {
   "cell_type": "markdown",
   "id": "fb019e3b",
   "metadata": {},
   "source": [
    "#### Instructions\n",
    "Change the value of the:\n",
    "\n",
    "my_numeric variable to 42.\n",
    "my_character variable to \"universe\". Note that the quotation marks indicate that \"universe\" is a character.\n",
    "my_logical variable to FALSE.\n",
    "Note that R is case sensitive!"
   ]
  },
  {
   "cell_type": "code",
   "execution_count": null,
   "id": "43eba7ab",
   "metadata": {},
   "outputs": [],
   "source": [
    "# Change my_numeric to be 42\n",
    "my_numeric <- 42\n",
    "\n",
    "# Change my_character to be \"universe\"\n",
    "my_character <- \"universe\"\n",
    "\n",
    "# Change my_logical to be FALSE\n",
    "my_logical <- FALSE"
   ]
  },
  {
   "cell_type": "markdown",
   "id": "85680f4d",
   "metadata": {},
   "source": [
    "### What's that data type?\n",
    "Do you remember that when you added 5 + \"six\", you got an error due to a mismatch in data types? You can avoid such embarrassing situations by checking the data type of a variable beforehand. You can do this with the class() function, as the code in the editor shows."
   ]
  },
  {
   "cell_type": "markdown",
   "id": "6a901c06",
   "metadata": {},
   "source": [
    "#### Instructions\n",
    "Complete the code in the editor and also print out the classes of my_character and my_logical."
   ]
  },
  {
   "cell_type": "code",
   "execution_count": null,
   "id": "404dfcee",
   "metadata": {},
   "outputs": [],
   "source": [
    "# Declare variables of different types\n",
    "my_numeric <- 42\n",
    "my_character <- \"universe\"\n",
    "my_logical <- FALSE \n",
    "\n",
    "# Check class of my_numeric\n",
    "class(my_numeric)\n",
    "\n",
    "# Check class of my_character\n",
    "class(my_character)\n",
    "\n",
    "# Check class of my_logical\n",
    "class(my_logical)"
   ]
  },
  {
   "cell_type": "markdown",
   "id": "79c7075e",
   "metadata": {},
   "source": [
    "## 2. Vectors"
   ]
  },
  {
   "cell_type": "markdown",
   "id": "ec624899",
   "metadata": {},
   "source": [
    "### Create a vector\n",
    "Feeling lucky? You better, because this chapter takes you on a trip to the City of Sins, also known as Statisticians Paradise!\n",
    "\n",
    "Thanks to R and your new data-analytical skills, you will learn how to uplift your performance at the tables and fire off your career as a professional gambler. This chapter will show how you can easily keep track of your betting progress and how you can do some simple analyses on past actions. Next stop, Vegas Baby… VEGAS!!"
   ]
  },
  {
   "cell_type": "markdown",
   "id": "697375be",
   "metadata": {},
   "source": [
    "#### Instructions\n",
    "Do you still remember what you have learned in the first chapter? Assign the value \"Go!\" to the variable vegas. Remember: R is case sensitive!"
   ]
  },
  {
   "cell_type": "code",
   "execution_count": 6,
   "id": "10e4fd21",
   "metadata": {},
   "outputs": [
    {
     "ename": "NameError",
     "evalue": "name 'vegas' is not defined",
     "output_type": "error",
     "traceback": [
      "\u001b[1;31m---------------------------------------------------------------------------\u001b[0m",
      "\u001b[1;31mNameError\u001b[0m                                 Traceback (most recent call last)",
      "Cell \u001b[1;32mIn[6], line 2\u001b[0m\n\u001b[0;32m      1\u001b[0m \u001b[38;5;66;03m# Define the variable vegas\u001b[39;00m\n\u001b[1;32m----> 2\u001b[0m vegas \u001b[38;5;241m<\u001b[39m\u001b[38;5;241m-\u001b[39m \u001b[38;5;124m\"\u001b[39m\u001b[38;5;124mGo!\u001b[39m\u001b[38;5;124m\"\u001b[39m\n",
      "\u001b[1;31mNameError\u001b[0m: name 'vegas' is not defined"
     ]
    }
   ],
   "source": [
    "# Define the variable vegas\n",
    "vegas <- \"Go!\""
   ]
  },
  {
   "cell_type": "markdown",
   "id": "d048488b",
   "metadata": {},
   "source": [
    "### Create a vector (2)\n",
    "Let us focus first!\n",
    "\n",
    "On your way from rags to riches, you will make extensive use of vectors. Vectors are one-dimension arrays that can hold numeric data, character data, or logical data. In other words, a vector is a simple tool to store data. For example, you can store your daily gains and losses in the casinos.\n",
    "\n",
    "In R, you create a vector with the combine function c(). You place the vector elements separated by a comma between the parentheses. For example:\n",
    "\n",
    "numeric_vector <- c(1, 2, 3)\n",
    "character_vector <- c(\"a\", \"b\", \"c\")\n",
    "Once you have created these vectors in R, you can use them to do calculations."
   ]
  },
  {
   "cell_type": "markdown",
   "id": "3b1d83e3",
   "metadata": {},
   "source": [
    "#### Instructions\n",
    "Complete the code such that boolean_vector contains the three elements: TRUE, FALSE and TRUE (in that order)."
   ]
  },
  {
   "cell_type": "code",
   "execution_count": null,
   "id": "6a527bc7",
   "metadata": {},
   "outputs": [],
   "source": [
    "numeric_vector <- c(1, 10, 49)\n",
    "character_vector <- c(\"a\", \"b\", \"c\")\n",
    "\n",
    "# Complete the code for boolean_vector\n",
    "boolean_vector <- c(TRUE, FALSE, TRUE)"
   ]
  },
  {
   "cell_type": "markdown",
   "id": "0cc768b8",
   "metadata": {},
   "source": [
    "### Create a vector (3)\n",
    "After one week in Las Vegas and still zero Ferraris in your garage, you decide that it is time to start using your data analytical superpowers.\n",
    "\n",
    "Before doing a first analysis, you decide to first collect all the winnings and losses for the last week:\n",
    "\n",
    "For poker_vector:\n",
    "\n",
    "On Monday you won $140\n",
    "Tuesday you lost $50\n",
    "Wednesday you won $20\n",
    "Thursday you lost $120\n",
    "Friday you won $240\n",
    "For roulette_vector:\n",
    "\n",
    "On Monday you lost $24\n",
    "Tuesday you lost $50\n",
    "Wednesday you won $100\n",
    "Thursday you lost $350\n",
    "Friday you won $10\n",
    "You only played poker and roulette, since there was a delegation of mediums that occupied the craps tables. To be able to use this data in R, you decide to create the variables poker_vector and roulette_vector."
   ]
  },
  {
   "cell_type": "markdown",
   "id": "8f3f2bbb",
   "metadata": {},
   "source": [
    "#### Instructions\n",
    "Assign the winnings/losses for roulette to the variable roulette_vector. You lost $24, then lost $50, won $100, lost $350, and won $10."
   ]
  },
  {
   "cell_type": "code",
   "execution_count": null,
   "id": "b4d210b5",
   "metadata": {},
   "outputs": [],
   "source": [
    "# Poker winnings from Monday to Friday\n",
    "poker_vector <- c(140, -50, 20, -120, 240)\n",
    "\n",
    "# Roulette winnings from Monday to Friday\n",
    "roulette_vector <-  c(-24, -50, 100, -350, 10)"
   ]
  },
  {
   "cell_type": "markdown",
   "id": "8ab61834",
   "metadata": {},
   "source": [
    "### Naming a vector\n",
    "As a data analyst, it is important to have a clear view on the data that you are using. Understanding what each element refers to is therefore essential.\n",
    "\n",
    "In the previous exercise, we created a vector with your winnings over the week. Each vector element refers to a day of the week but it is hard to tell which element belongs to which day. It would be nice if you could show that in the vector itself.\n",
    "\n",
    "You can give a name to the elements of a vector with the names() function. Have a look at this example:\n",
    "\n",
    "some_vector <- c(\"John Doe\", \"poker player\")\n",
    "names(some_vector) <- c(\"Name\", \"Profession\")\n",
    "This code first creates a vector some_vector and then gives the two elements a name. The first element is assigned the name Name, while the second element is labeled Profession. Printing the contents to the console yields following output:\n",
    "\n",
    "          Name     Profession \n",
    "    \"John Doe\" \"poker player\" "
   ]
  },
  {
   "cell_type": "markdown",
   "id": "c764f5ff",
   "metadata": {},
   "source": [
    "#### Instructions\n",
    "The code in the editor names the elements in poker_vector with the days of the week. Add code to do the same thing for roulette_vector."
   ]
  },
  {
   "cell_type": "code",
   "execution_count": null,
   "id": "6b37960a",
   "metadata": {},
   "outputs": [],
   "source": [
    "# Poker winnings from Monday to Friday\n",
    "poker_vector <- c(140, -50, 20, -120, 240)\n",
    "\n",
    "# Roulette winnings from Monday to Friday\n",
    "roulette_vector <- c(-24, -50, 100, -350, 10)\n",
    "\n",
    "# Assign days as names of poker_vector\n",
    "names(poker_vector) <- c(\"Monday\", \"Tuesday\", \"Wednesday\", \"Thursday\", \"Friday\")\n",
    "\n",
    "# Assign days as names of roulette_vector\n",
    "names(roulette_vector) <- c(\"Monday\", \"Tuesday\", \"Wednesday\", \"Thursday\", \"Friday\")"
   ]
  },
  {
   "cell_type": "markdown",
   "id": "ec04aa36",
   "metadata": {},
   "source": [
    "### Naming a vector (2)\n",
    "If you want to become a good statistician, you have to become lazy. (If you are already lazy, chances are high you are one of those exceptional, natural-born statistical talents.)\n",
    "\n",
    "In the previous exercises you probably experienced that it is boring and frustrating to type and retype information such as the days of the week. However, when you look at it from a higher perspective, there is a more efficient way to do this, namely, to assign the days of the week vector to a variable!\n",
    "\n",
    "Just like you did with your poker and roulette returns, you can also create a variable that contains the days of the week. This way you can use and re-use it."
   ]
  },
  {
   "cell_type": "markdown",
   "id": "d4c95ab2",
   "metadata": {},
   "source": [
    "#### Instructions\n",
    "A variable days_vector that contains the days of the week has already been created for you.\n",
    "Use days_vector to set the names of poker_vector and roulette_vector."
   ]
  },
  {
   "cell_type": "code",
   "execution_count": null,
   "id": "c21d6071",
   "metadata": {},
   "outputs": [],
   "source": [
    "# Poker winnings from Monday to Friday\n",
    "poker_vector <- c(140, -50, 20, -120, 240)\n",
    "\n",
    "# Roulette winnings from Monday to Friday\n",
    "roulette_vector <- c(-24, -50, 100, -350, 10)\n",
    "\n",
    "# The variable days_vector\n",
    "days_vector <- c(\"Monday\", \"Tuesday\", \"Wednesday\", \"Thursday\", \"Friday\")\n",
    " \n",
    "# Assign the names of the day to roulette_vector and poker_vector\n",
    "names(poker_vector) <-  days_vector \n",
    "names(roulette_vector) <- days_vector"
   ]
  },
  {
   "cell_type": "markdown",
   "id": "a4815f4b",
   "metadata": {},
   "source": [
    "### Calculating total winnings\n",
    "Now that you have the poker and roulette winnings nicely as named vectors, you can start doing some data analytical magic.\n",
    "\n",
    "You want to find out the following type of information:\n",
    "\n",
    "How much has been your overall profit or loss per day of the week?\n",
    "Have you lost money over the week in total?\n",
    "Are you winning/losing money on poker or on roulette?\n",
    "To get the answers, you have to do arithmetic calculations on vectors.\n",
    "\n",
    "It is important to know that if you sum two vectors in R, it takes the element-wise sum. For example, the following three statements are completely equivalent:\n",
    "\n",
    "c(1, 2, 3) + c(4, 5, 6)\n",
    "c(1 + 4, 2 + 5, 3 + 6)\n",
    "c(5, 7, 9)\n",
    "You can also do the calculations with variables that represent vectors:\n",
    "\n",
    "a <- c(1, 2, 3) \n",
    "b <- c(4, 5, 6)\n",
    "c <- a + b"
   ]
  },
  {
   "cell_type": "markdown",
   "id": "eab709ce",
   "metadata": {},
   "source": [
    "#### Instructions\n",
    "Take the sum of the variables A_vector and B_vector and assign it to total_vector.\n",
    "Inspect the result by printing out total_vector."
   ]
  },
  {
   "cell_type": "code",
   "execution_count": null,
   "id": "b02be7b1",
   "metadata": {},
   "outputs": [],
   "source": [
    "A_vector <- c(1, 2, 3)\n",
    "B_vector <- c(4, 5, 6)\n",
    "\n",
    "# Take the sum of A_vector and B_vector\n",
    "total_vector <- A_vector + B_vector\n",
    "  \n",
    "# Print out total_vector\n",
    "total_vector"
   ]
  },
  {
   "cell_type": "markdown",
   "id": "d52d1536",
   "metadata": {},
   "source": [
    "### Calculating total winnings (2)\n",
    "Now you understand how R does arithmetic with vectors, it is time to get those Ferraris in your garage! First, you need to understand what the overall profit or loss per day of the week was. The total daily profit is the sum of the profit/loss you realized on poker per day, and the profit/loss you realized on roulette per day.\n",
    "\n",
    "In R, this is just the sum of roulette_vector and poker_vector."
   ]
  },
  {
   "cell_type": "markdown",
   "id": "1bb8d953",
   "metadata": {},
   "source": [
    "#### Instructions\n",
    "Assign to the variable total_daily how much you won or lost on each day in total (poker and roulette combined)."
   ]
  },
  {
   "cell_type": "code",
   "execution_count": null,
   "id": "ae92c1c7",
   "metadata": {},
   "outputs": [],
   "source": [
    "# Poker and roulette winnings from Monday to Friday:\n",
    "poker_vector <- c(140, -50, 20, -120, 240)\n",
    "roulette_vector <- c(-24, -50, 100, -350, 10)\n",
    "days_vector <- c(\"Monday\", \"Tuesday\", \"Wednesday\", \"Thursday\", \"Friday\")\n",
    "names(poker_vector) <- days_vector\n",
    "names(roulette_vector) <- days_vector\n",
    "\n",
    "# Assign to total_daily how much you won/lost on each day\n",
    "total_daily <- poker_vector + roulette_vector"
   ]
  },
  {
   "cell_type": "markdown",
   "id": "d9319959",
   "metadata": {},
   "source": [
    "### Calculating total winnings (3)\n",
    "Based on the previous analysis, it looks like you had a mix of good and bad days. This is not what your ego expected, and you wonder if there may be a very tiny chance you have lost money over the week in total?\n",
    "\n",
    "A function that helps you to answer this question is sum(). It calculates the sum of all elements of a vector. For example, to calculate the total amount of money you have lost/won with poker you do:\n",
    "\n",
    "total_poker <- sum(poker_vector)"
   ]
  },
  {
   "cell_type": "markdown",
   "id": "6f304f86",
   "metadata": {},
   "source": [
    "#### Instructions\n",
    "Calculate the total amount of money that you have won/lost with roulette and assign to the variable total_roulette.\n",
    "Now that you have the totals for roulette and poker, you can easily calculate total_week (which is the sum of all gains and losses of the week).\n",
    "Print out total_week."
   ]
  },
  {
   "cell_type": "code",
   "execution_count": null,
   "id": "8b9c8b83",
   "metadata": {},
   "outputs": [],
   "source": [
    "# Poker and roulette winnings from Monday to Friday:\n",
    "poker_vector <- c(140, -50, 20, -120, 240)\n",
    "roulette_vector <- c(-24, -50, 100, -350, 10)\n",
    "days_vector <- c(\"Monday\", \"Tuesday\", \"Wednesday\", \"Thursday\", \"Friday\")\n",
    "names(poker_vector) <- days_vector\n",
    "names(roulette_vector) <- days_vector\n",
    "\n",
    "# Total winnings with poker\n",
    "total_poker <- sum(poker_vector)\n",
    "\n",
    "# Total winnings with roulette\n",
    "total_roulette <-  sum(roulette_vector)\n",
    "\n",
    "# Total winnings overall\n",
    "total_week <- sum(total_poker, total_roulette)\n",
    "\n",
    "# Print out total_week\n",
    "total_week"
   ]
  },
  {
   "cell_type": "markdown",
   "id": "8844eee5",
   "metadata": {},
   "source": [
    "### Comparing total winnings\n",
    "Oops, it seems like you are losing money. Time to rethink and adapt your strategy! This will require some deeper analysis…\n",
    "\n",
    "After a short brainstorm in your hotel's jacuzzi, you realize that a possible explanation might be that your skills in roulette are not as well developed as your skills in poker. So maybe your total gains in poker are higher (or > ) than in roulette."
   ]
  },
  {
   "cell_type": "markdown",
   "id": "cac31cbc",
   "metadata": {},
   "source": [
    "#### Instructions\n",
    "Calculate total_poker and total_roulette as in the previous exercise. Use the sum() function twice.\n",
    "Check if your total gains in poker are higher than for roulette by using a comparison. Simply print out the result of this comparison. What do you conclude, should you focus on roulette or on poker?"
   ]
  },
  {
   "cell_type": "code",
   "execution_count": null,
   "id": "98641e64",
   "metadata": {},
   "outputs": [],
   "source": [
    "# Poker and roulette winnings from Monday to Friday:\n",
    "poker_vector <- c(140, -50, 20, -120, 240)\n",
    "roulette_vector <- c(-24, -50, 100, -350, 10)\n",
    "days_vector <- c(\"Monday\", \"Tuesday\", \"Wednesday\", \"Thursday\", \"Friday\")\n",
    "names(poker_vector) <- days_vector\n",
    "names(roulette_vector) <- days_vector\n",
    "\n",
    "# Calculate total gains for poker and roulette\n",
    "total_poker <- sum(poker_vector)\n",
    "total_roulette <- sum(roulette_vector)\n",
    "\n",
    "# Check if you realized higher total gains in poker than in roulette\n",
    "print(total_poker > total_roulette)"
   ]
  },
  {
   "cell_type": "markdown",
   "id": "e15bb74e",
   "metadata": {},
   "source": [
    "### Vector selection: the good times\n",
    "Your hunch seemed to be right. It appears that the poker game is more your cup of tea than roulette.\n",
    "\n",
    "Another possible route for investigation is your performance at the beginning of the working week compared to the end of it. You did have a couple of Margarita cocktails at the end of the week…\n",
    "\n",
    "To answer that question, you only want to focus on a selection of the total_vector. In other words, our goal is to select specific elements of the vector. To select elements of a vector (and later matrices, data frames, …), you can use square brackets. Between the square brackets, you indicate what elements to select. For example, to select the first element of the vector, you type poker_vector[1]. To select the second element of the vector, you type poker_vector[2], etc. Notice that the first element in a vector has index 1, not 0 as in many other programming languages."
   ]
  },
  {
   "cell_type": "markdown",
   "id": "eb50a494",
   "metadata": {},
   "source": [
    "#### Instructions\n",
    "Assign the poker results of Wednesday to the variable poker_wednesday."
   ]
  },
  {
   "cell_type": "code",
   "execution_count": null,
   "id": "22184139",
   "metadata": {},
   "outputs": [],
   "source": [
    "# Poker and roulette winnings from Monday to Friday:\n",
    "poker_vector <- c(140, -50, 20, -120, 240)\n",
    "roulette_vector <- c(-24, -50, 100, -350, 10)\n",
    "days_vector <- c(\"Monday\", \"Tuesday\", \"Wednesday\", \"Thursday\", \"Friday\")\n",
    "names(poker_vector) <- days_vector\n",
    "names(roulette_vector) <- days_vector\n",
    "\n",
    "# Define a new variable based on a selection\n",
    "poker_wednesday <- poker_vector[3]"
   ]
  },
  {
   "cell_type": "markdown",
   "id": "81e84734",
   "metadata": {},
   "source": [
    "### Vector selection: the good times (2)\n",
    "How about analyzing your midweek results?\n",
    "\n",
    "To select multiple elements from a vector, you can add square brackets at the end of it. You can indicate between the brackets what elements should be selected. For example: suppose you want to select the first and the fifth day of the week: use the vector c(1, 5) between the square brackets. For example, the code below selects the first and fifth element of poker_vector:\n",
    "\n",
    "poker_vector[c(1, 5)]"
   ]
  },
  {
   "cell_type": "markdown",
   "id": "42e46d78",
   "metadata": {},
   "source": [
    "#### Instructions\n",
    "Assign the poker results of Tuesday, Wednesday and Thursday to the variable poker_midweek."
   ]
  },
  {
   "cell_type": "code",
   "execution_count": null,
   "id": "c316bb23",
   "metadata": {},
   "outputs": [],
   "source": [
    "# Poker and roulette winnings from Monday to Friday:\n",
    "poker_vector <- c(140, -50, 20, -120, 240)\n",
    "roulette_vector <- c(-24, -50, 100, -350, 10)\n",
    "days_vector <- c(\"Monday\", \"Tuesday\", \"Wednesday\", \"Thursday\", \"Friday\")\n",
    "names(poker_vector) <- days_vector\n",
    "names(roulette_vector) <- days_vector\n",
    "\n",
    "# Define a new variable based on a selection\n",
    "poker_midweek <- poker_vector[c(2, 3, 4)]"
   ]
  },
  {
   "cell_type": "markdown",
   "id": "60aab294",
   "metadata": {},
   "source": [
    "### Vector selection: the good times (3)\n",
    "Selecting multiple elements of poker_vector with c(2, 3, 4) is not very convenient. Many statisticians are lazy people by nature, so they created an easier way to do this: c(2, 3, 4) can be abbreviated to2:4, which generates a vector with all natural numbers from 2 up to 4.\n",
    "\n",
    "So, another way to find the mid-week results is poker_vector[2:4]. Notice how the vector 2:4 is placed between the square brackets to select element 2 up to 4."
   ]
  },
  {
   "cell_type": "markdown",
   "id": "4c20895b",
   "metadata": {},
   "source": [
    "#### Instructions\n",
    "Assign to roulette_selection_vector the roulette results from Tuesday up to Friday; make use of : if it makes things easier for you."
   ]
  },
  {
   "cell_type": "code",
   "execution_count": null,
   "id": "81412d3f",
   "metadata": {},
   "outputs": [],
   "source": [
    "# Poker and roulette winnings from Monday to Friday:\n",
    "poker_vector <- c(140, -50, 20, -120, 240)\n",
    "roulette_vector <- c(-24, -50, 100, -350, 10)\n",
    "days_vector <- c(\"Monday\", \"Tuesday\", \"Wednesday\", \"Thursday\", \"Friday\")\n",
    "names(poker_vector) <- days_vector\n",
    "names(roulette_vector) <- days_vector\n",
    "\n",
    "# Define a new variable based on a selection\n",
    "roulette_selection_vector <- roulette_vector[2:5]"
   ]
  },
  {
   "cell_type": "markdown",
   "id": "980ce8b1",
   "metadata": {},
   "source": [
    "### Vector selection: the good times (4)\n",
    "Another way to tackle the previous exercise is by using the names of the vector elements (Monday, Tuesday, …) instead of their numeric positions. For example,\n",
    "\n",
    "poker_vector[\"Monday\"]\n",
    "will select the first element of poker_vector since \"Monday\" is the name of that first element.\n",
    "\n",
    "Just like you did in the previous exercise with numerics, you can also use the element names to select multiple elements, for example:\n",
    "\n",
    "poker_vector[c(\"Monday\",\"Tuesday\")]"
   ]
  },
  {
   "cell_type": "markdown",
   "id": "63f42802",
   "metadata": {},
   "source": [
    "#### Instructions\n",
    "Select the first three elements in poker_vector by using their names: \"Monday\", \"Tuesday\" and \"Wednesday\". Assign the result of the selection to poker_start.\n",
    "Calculate the average of the values in poker_start with the mean() function. Simply print out the result so you can inspect it."
   ]
  },
  {
   "cell_type": "code",
   "execution_count": null,
   "id": "df2a26bf",
   "metadata": {},
   "outputs": [],
   "source": [
    "# Poker and roulette winnings from Monday to Friday:\n",
    "poker_vector <- c(140, -50, 20, -120, 240)\n",
    "roulette_vector <- c(-24, -50, 100, -350, 10)\n",
    "days_vector <- c(\"Monday\", \"Tuesday\", \"Wednesday\", \"Thursday\", \"Friday\")\n",
    "names(poker_vector) <- days_vector\n",
    "names(roulette_vector) <- days_vector\n",
    "\n",
    "# Select poker results for Monday, Tuesday and Wednesday\n",
    "poker_start <- poker_vector[1:3]\n",
    "  \n",
    "# Calculate the average of the elements in poker_start\n",
    "mean(poker_start)"
   ]
  },
  {
   "cell_type": "markdown",
   "id": "4a8d4d32",
   "metadata": {},
   "source": [
    "### Selection by comparison - Step 1\n",
    "By making use of comparison operators, we can approach the previous question in a more proactive way.\n",
    "\n",
    "The (logical) comparison operators known to R are:\n",
    "\n",
    "< for less than\n",
    "> for greater than\n",
    "<= for less than or equal to\n",
    ">= for greater than or equal to\n",
    "== for equal to each other\n",
    "!= not equal to each other\n",
    "As seen in the previous chapter, stating 6 > 5 returns TRUE. The nice thing about R is that you can use these comparison operators also on vectors. For example:\n",
    "\n",
    "c(4, 5, 6) > 5\n",
    "[1] FALSE FALSE TRUE\n",
    "This command tests for every element of the vector if the condition stated by the comparison operator is TRUE or FALSE."
   ]
  },
  {
   "cell_type": "markdown",
   "id": "896c9131",
   "metadata": {},
   "source": [
    "#### Instructions\n",
    "Check which elements in poker_vector are positive (i.e. > 0) and assign this to selection_vector.\n",
    "Print out selection_vector so you can inspect it. The printout tells you whether you won (TRUE) or lost (FALSE) any money for each day."
   ]
  },
  {
   "cell_type": "code",
   "execution_count": null,
   "id": "755743ed",
   "metadata": {},
   "outputs": [],
   "source": [
    "# Poker and roulette winnings from Monday to Friday:\n",
    "poker_vector <- c(140, -50, 20, -120, 240)\n",
    "roulette_vector <- c(-24, -50, 100, -350, 10)\n",
    "days_vector <- c(\"Monday\", \"Tuesday\", \"Wednesday\", \"Thursday\", \"Friday\")\n",
    "names(poker_vector) <- days_vector\n",
    "names(roulette_vector) <- days_vector\n",
    "\n",
    "# Which days did you make money on poker?\n",
    "selection_vector <- poker_vector > 0\n",
    "  \n",
    "# Print out selection_vector\n",
    "print(selection_vector)"
   ]
  },
  {
   "cell_type": "markdown",
   "id": "9b701004",
   "metadata": {},
   "source": [
    "### Selection by comparison - Step 2\n",
    "Working with comparisons will make your data analytical life easier. Instead of selecting a subset of days to investigate yourself (like before), you can simply ask R to return only those days where you realized a positive return for poker.\n",
    "\n",
    "In the previous exercises you used selection_vector <- poker_vector > 0 to find the days on which you had a positive poker return. Now, you would like to know not only the days on which you won, but also how much you won on those days.\n",
    "\n",
    "You can select the desired elements, by putting selection_vector between the square brackets that follow poker_vector:\n",
    "\n",
    "poker_vector[selection_vector]\n",
    "R knows what to do when you pass a logical vector in square brackets: it will only select the elements that correspond to TRUE in selection_vector."
   ]
  },
  {
   "cell_type": "markdown",
   "id": "a4440cc9",
   "metadata": {},
   "source": [
    "#### Instructions\n",
    "Use selection_vector in square brackets to assign the amounts that you won on the profitable days to the variable poker_winning_days."
   ]
  },
  {
   "cell_type": "code",
   "execution_count": null,
   "id": "5a164587",
   "metadata": {},
   "outputs": [],
   "source": [
    "# Poker and roulette winnings from Monday to Friday:\n",
    "poker_vector <- c(140, -50, 20, -120, 240)\n",
    "roulette_vector <- c(-24, -50, 100, -350, 10)\n",
    "days_vector <- c(\"Monday\", \"Tuesday\", \"Wednesday\", \"Thursday\", \"Friday\")\n",
    "names(poker_vector) <- days_vector\n",
    "names(roulette_vector) <- days_vector\n",
    "\n",
    "# Which days did you make money on poker?\n",
    "selection_vector <- poker_vector > 0\n",
    "\n",
    "# Select from poker_vector these days\n",
    "poker_winning_days <- poker_vector[selection_vector]"
   ]
  },
  {
   "cell_type": "markdown",
   "id": "f1987053",
   "metadata": {},
   "source": [
    "### Advanced selection\n",
    "Just like you did for poker, you also want to know those days where you realized a positive return for roulette."
   ]
  },
  {
   "cell_type": "markdown",
   "id": "75bca0c4",
   "metadata": {},
   "source": [
    "#### Instructions\n",
    "Create the variable selection_vector, this time to see if you made profit with roulette for different days.\n",
    "Assign the amounts that you made on the days that you ended positively for roulette to the variable roulette_winning_days. This vector thus contains the positive winnings of roulette_vector."
   ]
  },
  {
   "cell_type": "code",
   "execution_count": null,
   "id": "1fb48b77",
   "metadata": {},
   "outputs": [],
   "source": [
    "# Poker and roulette winnings from Monday to Friday:\n",
    "poker_vector <- c(140, -50, 20, -120, 240)\n",
    "roulette_vector <- c(-24, -50, 100, -350, 10)\n",
    "days_vector <- c(\"Monday\", \"Tuesday\", \"Wednesday\", \"Thursday\", \"Friday\")\n",
    "names(poker_vector) <- days_vector\n",
    "names(roulette_vector) <- days_vector\n",
    "\n",
    "# Which days did you make money on roulette?\n",
    "selection_vector <- roulette_vector > 0\n",
    "\n",
    "# Select from roulette_vector these days\n",
    "roulette_winning_days <- roulette_vector[selection_vector]"
   ]
  },
  {
   "cell_type": "markdown",
   "id": "282535c7",
   "metadata": {},
   "source": [
    "## 3. Matrices"
   ]
  },
  {
   "cell_type": "markdown",
   "id": "03321ba7",
   "metadata": {},
   "source": [
    "### What's a matrix?\n",
    "In R, a matrix is a collection of elements of the same data type (numeric, character, or logical) arranged into a fixed number of rows and columns. Since you are only working with rows and columns, a matrix is called two-dimensional.\n",
    "\n",
    "You can construct a matrix in R with the matrix() function. Consider the following example:\n",
    "\n",
    "matrix(1:9, byrow = TRUE, nrow = 3)\n",
    "In the matrix() function:\n",
    "\n",
    "The first argument is the collection of elements that R will arrange into the rows and columns of the matrix. Here, we use 1:9 which is a shortcut for c(1, 2, 3, 4, 5, 6, 7, 8, 9).\n",
    "The argument byrow indicates that the matrix is filled by the rows. If we want the matrix to be filled by the columns, we just place byrow = FALSE.\n",
    "The third argument nrow indicates that the matrix should have three rows."
   ]
  },
  {
   "cell_type": "markdown",
   "id": "54ce0fd5",
   "metadata": {},
   "source": [
    "#### Instructions\n",
    "Construct a matrix with 3 rows containing the numbers 1 up to 9, filled row-wise."
   ]
  },
  {
   "cell_type": "code",
   "execution_count": null,
   "id": "b2ce70ea",
   "metadata": {},
   "outputs": [],
   "source": [
    "# Construct a matrix with 3 rows that contain the numbers 1 up to 9\n",
    "matrix(1:9, byrow = TRUE, nrow = 3)"
   ]
  },
  {
   "cell_type": "markdown",
   "id": "3d0d60f1",
   "metadata": {},
   "source": [
    "### Analyze matrices, you shall\n",
    "It is now time to get your hands dirty. In the following exercises you will analyze the box office numbers of the Star Wars franchise. May the force be with you!\n",
    "\n",
    "In the editor, three vectors are defined. Each one represents the box office numbers from the first three Star Wars movies. The first element of each vector indicates the US box office revenue, the second element refers to the Non-US box office (source: Wikipedia).\n",
    "\n",
    "In this exercise, you'll combine all these figures into a single vector. Next, you'll build a matrix from this vector."
   ]
  },
  {
   "cell_type": "markdown",
   "id": "09c656d4",
   "metadata": {},
   "source": [
    "#### Use c(new_hope, empire_strikes, return_jedi) to combine the three vectors into one vector. Call this vector box_office.\n",
    "Construct a matrix with 3 rows, where each row represents a movie. Use the matrix() function to do this. The first argument is the vector box_office, containing all box office figures. Next, you'll have to specify nrow = 3 and byrow = TRUE. Name the resulting matrix star_wars_matrix."
   ]
  },
  {
   "cell_type": "code",
   "execution_count": null,
   "id": "f1bfb395",
   "metadata": {},
   "outputs": [],
   "source": [
    "# Box office Star Wars (in millions!)\n",
    "new_hope <- c(460.998, 314.4)\n",
    "empire_strikes <- c(290.475, 247.900)\n",
    "return_jedi <- c(309.306, 165.8)\n",
    "\n",
    "# Create box_office\n",
    "box_office <- c(new_hope, empire_strikes, return_jedi)\n",
    "\n",
    "# Construct star_wars_matrix\n",
    "star_wars_matrix <- matrix(box_office, nrow = 3, byrow = TRUE)"
   ]
  },
  {
   "cell_type": "markdown",
   "id": "7b432012",
   "metadata": {},
   "source": [
    "### Naming a matrix\n",
    "To help you remember what is stored in star_wars_matrix, you would like to add the names of the movies for the rows. Not only does this help you to read the data, but it is also useful to select certain elements from the matrix.\n",
    "\n",
    "Similar to vectors, you can add names for the rows and the columns of a matrix\n",
    "\n",
    "rownames(my_matrix) <- row_names_vector\n",
    "colnames(my_matrix) <- col_names_vector\n",
    "We went ahead and prepared two vectors for you: region, and titles. You will need these vectors to name the columns and rows of star_wars_matrix, respectively."
   ]
  },
  {
   "cell_type": "markdown",
   "id": "a522378b",
   "metadata": {},
   "source": [
    "#### Instructions\n",
    "Use colnames() to name the columns of star_wars_matrix with the region vector.\n",
    "Use rownames() to name the rows of star_wars_matrix with the titles vector.\n",
    "Print out star_wars_matrix to see the result of your work."
   ]
  },
  {
   "cell_type": "code",
   "execution_count": null,
   "id": "a47ebd73",
   "metadata": {},
   "outputs": [],
   "source": [
    "# Box office Star Wars (in millions!)\n",
    "new_hope <- c(460.998, 314.4)\n",
    "empire_strikes <- c(290.475, 247.900)\n",
    "return_jedi <- c(309.306, 165.8)\n",
    "\n",
    "# Construct matrix\n",
    "star_wars_matrix <- matrix(c(new_hope, empire_strikes, return_jedi), nrow = 3, byrow = TRUE)\n",
    "\n",
    "# Vectors region and titles, used for naming\n",
    "region <- c(\"US\", \"non-US\")\n",
    "titles <- c(\"A New Hope\", \"The Empire Strikes Back\", \"Return of the Jedi\")\n",
    "\n",
    "# Name the columns with region\n",
    "colnames(star_wars_matrix) <- region\n",
    "\n",
    "# Name the rows with titles\n",
    "rownames(star_wars_matrix) <- titles\n",
    "\n",
    "# Print out star_wars_matrix\n",
    "print(star_wars_matrix)"
   ]
  },
  {
   "cell_type": "markdown",
   "id": "d05b1cd6",
   "metadata": {},
   "source": [
    "### Calculating the worldwide box office\n",
    "The single most important thing for a movie in order to become an instant legend in Tinseltown is its worldwide box office figures.\n",
    "\n",
    "To calculate the total box office revenue for the three Star Wars movies, you have to take the sum of the US revenue column and the non-US revenue column.\n",
    "\n",
    "In R, the function rowSums() conveniently calculates the totals for each row of a matrix. This function creates a new vector:\n",
    "\n",
    "rowSums(my_matrix)"
   ]
  },
  {
   "cell_type": "markdown",
   "id": "2838a63f",
   "metadata": {},
   "source": [
    "#### Instructions\n",
    "Calculate the worldwide box office figures for the three movies and put these in the vector named worldwide_vector."
   ]
  },
  {
   "cell_type": "code",
   "execution_count": null,
   "id": "ad04e4e7",
   "metadata": {},
   "outputs": [],
   "source": [
    "# Construct star_wars_matrix\n",
    "box_office <- c(460.998, 314.4, 290.475, 247.900, 309.306, 165.8)\n",
    "region <- c(\"US\", \"non-US\")\n",
    "titles <- c(\"A New Hope\", \n",
    "                 \"The Empire Strikes Back\", \n",
    "                 \"Return of the Jedi\")\n",
    "               \n",
    "star_wars_matrix <- matrix(box_office, \n",
    "                      nrow = 3, byrow = TRUE,\n",
    "                      dimnames = list(titles, region))\n",
    "\n",
    "# Calculate worldwide box office figures\n",
    "worldwide_vector <- rowSums(star_wars_matrix)"
   ]
  },
  {
   "cell_type": "markdown",
   "id": "3f441182",
   "metadata": {},
   "source": [
    "### Adding a column for the Worldwide box office\n",
    "In the previous exercise you calculated the vector that contained the worldwide box office receipt for each of the three Star Wars movies. However, this vector is not yet part of star_wars_matrix.\n",
    "\n",
    "You can add a column or multiple columns to a matrix with the cbind() function, which merges matrices and/or vectors together by column. For example:\n",
    "\n",
    "big_matrix <- cbind(matrix1, matrix2, vector1 ...)"
   ]
  },
  {
   "cell_type": "markdown",
   "id": "fde4243c",
   "metadata": {},
   "source": [
    "#### Instructions\n",
    "Add worldwide_vector as a new column to the star_wars_matrix and assign the result to all_wars_matrix. Use the cbind() function."
   ]
  },
  {
   "cell_type": "code",
   "execution_count": null,
   "id": "218a97af",
   "metadata": {},
   "outputs": [],
   "source": [
    "# Construct star_wars_matrix\n",
    "box_office <- c(460.998, 314.4, 290.475, 247.900, 309.306, 165.8)\n",
    "region <- c(\"US\", \"non-US\")\n",
    "titles <- c(\"A New Hope\", \n",
    "            \"The Empire Strikes Back\", \n",
    "            \"Return of the Jedi\")\n",
    "               \n",
    "star_wars_matrix <- matrix(box_office, \n",
    "                      nrow = 3, byrow = TRUE,\n",
    "                      dimnames = list(titles, region))\n",
    "\n",
    "# The worldwide box office figures\n",
    "worldwide_vector <- rowSums(star_wars_matrix)\n",
    "\n",
    "# Bind the new variable worldwide_vector as a column to star_wars_matrix\n",
    "all_wars_matrix <- cbind(star_wars_matrix, worldwide_vector)"
   ]
  },
  {
   "cell_type": "markdown",
   "id": "a5020ddf",
   "metadata": {},
   "source": [
    "### Adding a row\n",
    "Just like every action has a reaction, every cbind() has an rbind(). (We admit, we are pretty bad with metaphors.)\n",
    "\n",
    "Your R workspace, where all variables you defined 'live' (check out what a workspace is), has already been initialized and contains two matrices:\n",
    "\n",
    "star_wars_matrix that we have used all along, with data on the original trilogy,\n",
    "star_wars_matrix2, with similar data for the prequels trilogy.\n",
    "Explore these matrices in the console if you want to have a closer look. If you want to check out the contents of the workspace, you can type ls() in the console."
   ]
  },
  {
   "cell_type": "markdown",
   "id": "9dfb17c4",
   "metadata": {},
   "source": [
    "#### Instructions\n",
    "Use rbind() to paste together star_wars_matrix and star_wars_matrix2, in this order. Assign the resulting matrix to all_wars_matrix."
   ]
  },
  {
   "cell_type": "code",
   "execution_count": null,
   "id": "5f481e4e",
   "metadata": {},
   "outputs": [],
   "source": [
    "# star_wars_matrix and star_wars_matrix2 are available in your workspace\n",
    "star_wars_matrix  \n",
    "star_wars_matrix2 \n",
    "\n",
    "# Combine both Star Wars trilogies in one matrix\n",
    "all_wars_matrix <- rbind(star_wars_matrix, star_wars_matrix2)"
   ]
  },
  {
   "cell_type": "markdown",
   "id": "939559bb",
   "metadata": {},
   "source": [
    "### The total box office revenue for the entire saga\n",
    "Just like cbind() has rbind(), colSums() has rowSums(). Your R workspace already contains the all_wars_matrix that you constructed in the previous exercise; type all_wars_matrix to have another look. Let's now calculate the total box office revenue for the entire saga."
   ]
  },
  {
   "cell_type": "markdown",
   "id": "dc82a3f8",
   "metadata": {},
   "source": [
    "#### Instructions\n",
    "Calculate the total revenue for the US and the non-US region and assign total_revenue_vector. You can use the colSums() function.\n",
    "Print out total_revenue_vector to have a look at the results."
   ]
  },
  {
   "cell_type": "code",
   "execution_count": null,
   "id": "31ddf284",
   "metadata": {},
   "outputs": [],
   "source": [
    "# all_wars_matrix is available in your workspace\n",
    "all_wars_matrix\n",
    "\n",
    "# Total revenue for US and non-US\n",
    "total_revenue_vector <- colSums(all_wars_matrix)\n",
    "  \n",
    "# Print out total_revenue_vector\n",
    "print(total_revenue_vector)"
   ]
  },
  {
   "cell_type": "markdown",
   "id": "97203a98",
   "metadata": {},
   "source": [
    "### Selection of matrix elements\n",
    "Similar to vectors, you can use the square brackets [ ] to select one or multiple elements from a matrix. Whereas vectors have one dimension, matrices have two dimensions. You should therefore use a comma to separate the rows you want to select from the columns. For example:\n",
    "\n",
    "my_matrix[1,2] selects the element at the first row and second column.\n",
    "my_matrix[1:3,2:4] results in a matrix with the data on the rows 1, 2, 3 and columns 2, 3, 4.\n",
    "If you want to select all elements of a row or a column, no number is needed before or after the comma, respectively:\n",
    "\n",
    "my_matrix[,1] selects all elements of the first column.\n",
    "my_matrix[1,] selects all elements of the first row.\n",
    "Back to Star Wars with this newly acquired knowledge! As in the previous exercise, all_wars_matrix is already available in your workspace."
   ]
  },
  {
   "cell_type": "markdown",
   "id": "44dc5b88",
   "metadata": {},
   "source": [
    "#### Instructions\n",
    "Select the non-US revenue for all movies (the entire second column of all_wars_matrix), store the result as non_us_all.\n",
    "Use mean() on non_us_all to calculate the average non-US revenue for all movies. Simply print out the result.\n",
    "This time, select the non-US revenue for the first two movies in all_wars_matrix. Store the result as non_us_some.\n",
    "Use mean() again to print out the average of the values in non_us_some."
   ]
  },
  {
   "cell_type": "code",
   "execution_count": null,
   "id": "e17bf9b3",
   "metadata": {},
   "outputs": [],
   "source": [
    "# all_wars_matrix is available in your workspace\n",
    "all_wars_matrix\n",
    "\n",
    "# Select the non-US revenue for all movies\n",
    "non_us_all <- all_wars_matrix[, 2]\n",
    "  \n",
    "# Average non-US revenue\n",
    "print(mean(non_us_all))\n",
    "  \n",
    "# Select the non-US revenue for first two movies\n",
    "non_us_some <- all_wars_matrix[1:2, 2]\n",
    "  \n",
    "# Average non-US revenue for first two movies\n",
    "print(mean(non_us_some))"
   ]
  },
  {
   "cell_type": "markdown",
   "id": "afc0b6c2",
   "metadata": {},
   "source": [
    "### A little arithmetic with matrices\n",
    "Similar to what you have learned with vectors, the standard operators like +, -, /, *, etc. work in an element-wise way on matrices in R.\n",
    "\n",
    "For example, 2 * my_matrix multiplies each element of my_matrix by two.\n",
    "\n",
    "As a newly-hired data analyst for Lucasfilm, it is your job to find out how many visitors went to each movie for each geographical area. You already have the total revenue figures in all_wars_matrix. Assume that the price of a ticket was 5 dollars. Simply dividing the box office numbers by this ticket price gives you the number of visitors."
   ]
  },
  {
   "cell_type": "markdown",
   "id": "060c5a41",
   "metadata": {},
   "source": [
    "#### Instructions\n",
    "Divide all_wars_matrix by 5, giving you the number of visitors in millions. Assign the resulting matrix to visitors.\n",
    "Print out visitors so you can have a look."
   ]
  },
  {
   "cell_type": "code",
   "execution_count": null,
   "id": "ad0929c2",
   "metadata": {},
   "outputs": [],
   "source": [
    "# all_wars_matrix is available in your workspace\n",
    "all_wars_matrix\n",
    "\n",
    "# Estimate the visitors\n",
    "visitors <- all_wars_matrix / 5\n",
    "  \n",
    "# Print the estimate to the console\n",
    "print(visitors)"
   ]
  },
  {
   "cell_type": "markdown",
   "id": "dbd0a0fe",
   "metadata": {},
   "source": [
    "### A little arithmetic with matrices (2)\n",
    "Just like 2 * my_matrix multiplied every element of my_matrix by two, my_matrix1 * my_matrix2 creates a matrix where each element is the product of the corresponding elements in my_matrix1 and my_matrix2.\n",
    "\n",
    "After looking at the result of the previous exercise, big boss Lucas points out that the ticket prices went up over time. He asks to redo the analysis based on the prices you can find in ticket_prices_matrix (source: imagination).\n",
    "\n",
    "Those who are familiar with matrices should note that this is not the standard matrix multiplication for which you should use %*% in R."
   ]
  },
  {
   "cell_type": "markdown",
   "id": "c6ecfcf5",
   "metadata": {},
   "source": [
    "#### Instructions\n",
    "Divide all_wars_matrix by ticket_prices_matrix to get the estimated number of US and non-US visitors for the six movies. Assign the result to visitors.\n",
    "From the visitors matrix, select the entire first column, representing the number of visitors in the US. Store this selection as us_visitors.\n",
    "Calculate the average number of US visitors; print out the result."
   ]
  },
  {
   "cell_type": "code",
   "execution_count": null,
   "id": "8cc0a03d",
   "metadata": {},
   "outputs": [],
   "source": [
    "# all_wars_matrix and ticket_prices_matrix are available in your workspace\n",
    "all_wars_matrix\n",
    "ticket_prices_matrix\n",
    "\n",
    "# Estimated number of visitors\n",
    "visitors <- all_wars_matrix / ticket_prices_matrix\n",
    "\n",
    "# US visitors\n",
    "us_visitors <- visitors[, 1]\n",
    "\n",
    "# Average number of US visitors\n",
    "print(mean(us_visitors))"
   ]
  },
  {
   "cell_type": "markdown",
   "id": "1cec6205",
   "metadata": {},
   "source": [
    "## 4. Factors"
   ]
  },
  {
   "cell_type": "markdown",
   "id": "7cc2d7a5",
   "metadata": {},
   "source": [
    "### What's a factor and why would you use it?\n",
    "In this chapter you dive into the wonderful world of factors.\n",
    "\n",
    "The term factor refers to a statistical data type used to store categorical variables. The difference between a categorical variable and a continuous variable is that a categorical variable can belong to a limited number of categories. A continuous variable, on the other hand, can correspond to an infinite number of values.\n",
    "\n",
    "It is important that R knows whether it is dealing with a continuous or a categorical variable, as the statistical models you will develop in the future treat both types differently. (You will see later why this is the case.)\n",
    "\n",
    "A good example of a categorical variable is sex. In many circumstances you can limit the sex categories to \"Male\" or \"Female\". (Sometimes you may need different categories. For example, you may need to consider chromosomal variation, hermaphroditic animals, or different cultural norms, but you will always have a finite number of categories.)"
   ]
  },
  {
   "cell_type": "markdown",
   "id": "feec961f",
   "metadata": {},
   "source": [
    "#### Instructions\n",
    "Assign to variable theory the value \"factors\"."
   ]
  },
  {
   "cell_type": "code",
   "execution_count": null,
   "id": "2a89fee0",
   "metadata": {},
   "outputs": [],
   "source": [
    "# Assign to the variable theory what this chapter is about!\n",
    "theory <- \"factors\""
   ]
  },
  {
   "cell_type": "markdown",
   "id": "5106c6c3",
   "metadata": {},
   "source": [
    "### What's a factor and why would you use it? (2)\n",
    "To create factors in R, you make use of the function factor(). First thing that you have to do is create a vector that contains all the observations that belong to a limited number of categories. For example, sex_vector contains the sex of 5 different individuals:\n",
    "\n",
    "sex_vector <- c(\"Male\",\"Female\",\"Female\",\"Male\",\"Male\")\n",
    "It is clear that there are two categories, or in R-terms 'factor levels', at work here: \"Male\" and \"Female\".\n",
    "\n",
    "The function factor() will encode the vector as a factor:\n",
    "\n",
    "factor_sex_vector <- factor(sex_vector)"
   ]
  },
  {
   "cell_type": "markdown",
   "id": "0b144f84",
   "metadata": {},
   "source": [
    "#### Instructions\n",
    "Convert the character vector sex_vector to a factor with factor() and assign the result to factor_sex_vector\n",
    "Print out factor_sex_vector and assert that R prints out the factor levels below the actual values."
   ]
  },
  {
   "cell_type": "code",
   "execution_count": null,
   "id": "64ed381c",
   "metadata": {},
   "outputs": [],
   "source": [
    "# Sex vector\n",
    "sex_vector <- c(\"Male\", \"Female\", \"Female\", \"Male\", \"Male\")\n",
    "\n",
    "# Convert sex_vector to a factor\n",
    "factor_sex_vector <- factor(sex_vector)\n",
    "\n",
    "# Print out factor_sex_vector\n",
    "print(factor_sex_vector)"
   ]
  },
  {
   "cell_type": "markdown",
   "id": "06a1fed2",
   "metadata": {},
   "source": [
    "### What's a factor and why would you use it? (3)\n",
    "There are two types of categorical variables: a nominal categorical variable and an ordinal categorical variable.\n",
    "\n",
    "A nominal variable is a categorical variable without an implied order. This means that it is impossible to say that 'one is worth more than the other'. For example, think of the categorical variable animals_vector with the categories \"Elephant\", \"Giraffe\", \"Donkey\" and \"Horse\". Here, it is impossible to say that one stands above or below the other. (Note that some of you might disagree ;-) ).\n",
    "\n",
    "In contrast, ordinal variables do have a natural ordering. Consider for example the categorical variable temperature_vector with the categories: \"Low\", \"Medium\" and \"High\". Here it is obvious that \"Medium\" stands above \"Low\", and \"High\" stands above \"Medium\"."
   ]
  },
  {
   "cell_type": "markdown",
   "id": "5bce7cf0",
   "metadata": {},
   "source": [
    "#### Instructions\n",
    "Submit the answer to check how R constructs and prints nominal and ordinal variables. Do not worry if you do not understand all the code just yet, we will get to that."
   ]
  },
  {
   "cell_type": "code",
   "execution_count": null,
   "id": "641d4ba3",
   "metadata": {},
   "outputs": [],
   "source": [
    "# Animals\n",
    "animals_vector <- c(\"Elephant\", \"Giraffe\", \"Donkey\", \"Horse\")\n",
    "factor_animals_vector <- factor(animals_vector)\n",
    "factor_animals_vector\n",
    "\n",
    "# Temperature\n",
    "temperature_vector <- c(\"High\", \"Low\", \"High\",\"Low\", \"Medium\")\n",
    "factor_temperature_vector <- factor(temperature_vector, order = TRUE, levels = c(\"Low\", \"Medium\", \"High\"))\n",
    "factor_temperature_vector"
   ]
  },
  {
   "cell_type": "markdown",
   "id": "c442f2a3",
   "metadata": {},
   "source": [
    "### Factor levels\n",
    "When you first get a dataset, you will often notice that it contains factors with specific factor levels. However, sometimes you will want to change the names of these levels for clarity or other reasons. R allows you to do this with the function levels():\n",
    "\n",
    "levels(factor_vector) <- c(\"name1\", \"name2\",...)\n",
    "A good illustration is the raw data that is provided to you by a survey. A common question for every questionnaire is the sex of the respondent. Here, for simplicity, just two categories were recorded, \"M\" and \"F\". (You usually need more categories for survey data; either way, you use a factor to store the categorical data.)\n",
    "\n",
    "survey_vector <- c(\"M\", \"F\", \"F\", \"M\", \"M\")\n",
    "Recording the sex with the abbreviations \"M\" and \"F\" can be convenient if you are collecting data with pen and paper, but it can introduce confusion when analyzing the data. At that point, you will often want to change the factor levels to \"Male\" and \"Female\" instead of \"M\" and \"F\" for clarity.\n",
    "\n",
    "Watch out: the order with which you assign the levels is important. If you type levels(factor_survey_vector), you'll see that it outputs [1] \"F\" \"M\". If you don't specify the levels of the factor when creating the vector, R will automatically assign them alphabetically. To correctly map \"F\" to \"Female\" and \"M\" to \"Male\", the levels should be set to c(\"Female\", \"Male\"), in this order."
   ]
  },
  {
   "cell_type": "markdown",
   "id": "65d69b9a",
   "metadata": {},
   "source": [
    "#### Instructions\n",
    "Check out the code that builds a factor vector from survey_vector. You should use factor_survey_vector in the next instruction.\n",
    "Change the factor levels of factor_survey_vector to c(\"Female\", \"Male\"). Mind the order of the vector elements here."
   ]
  },
  {
   "cell_type": "code",
   "execution_count": 7,
   "id": "736d0c70",
   "metadata": {
    "scrolled": true
   },
   "outputs": [
    {
     "ename": "NameError",
     "evalue": "name 'survey_vector' is not defined",
     "output_type": "error",
     "traceback": [
      "\u001b[1;31m---------------------------------------------------------------------------\u001b[0m",
      "\u001b[1;31mNameError\u001b[0m                                 Traceback (most recent call last)",
      "Cell \u001b[1;32mIn[7], line 2\u001b[0m\n\u001b[0;32m      1\u001b[0m \u001b[38;5;66;03m# Code to build factor_survey_vector\u001b[39;00m\n\u001b[1;32m----> 2\u001b[0m survey_vector \u001b[38;5;241m<\u001b[39m\u001b[38;5;241m-\u001b[39m c(\u001b[38;5;124m\"\u001b[39m\u001b[38;5;124mM\u001b[39m\u001b[38;5;124m\"\u001b[39m, \u001b[38;5;124m\"\u001b[39m\u001b[38;5;124mF\u001b[39m\u001b[38;5;124m\"\u001b[39m, \u001b[38;5;124m\"\u001b[39m\u001b[38;5;124mF\u001b[39m\u001b[38;5;124m\"\u001b[39m, \u001b[38;5;124m\"\u001b[39m\u001b[38;5;124mM\u001b[39m\u001b[38;5;124m\"\u001b[39m, \u001b[38;5;124m\"\u001b[39m\u001b[38;5;124mM\u001b[39m\u001b[38;5;124m\"\u001b[39m)\n\u001b[0;32m      3\u001b[0m factor_survey_vector \u001b[38;5;241m<\u001b[39m\u001b[38;5;241m-\u001b[39m factor(survey_vector)\n\u001b[0;32m      5\u001b[0m \u001b[38;5;66;03m# Specify the levels of factor_survey_vector\u001b[39;00m\n",
      "\u001b[1;31mNameError\u001b[0m: name 'survey_vector' is not defined"
     ]
    }
   ],
   "source": [
    "# Code to build factor_survey_vector\n",
    "survey_vector <- c(\"M\", \"F\", \"F\", \"M\", \"M\")\n",
    "factor_survey_vector <- factor(survey_vector)\n",
    "\n",
    "# Specify the levels of factor_survey_vector\n",
    "levels(factor_survey_vector) <- c(\"Female\", \"Male\")\n",
    "\n",
    "factor_survey_vector"
   ]
  },
  {
   "cell_type": "markdown",
   "id": "bd39616a",
   "metadata": {},
   "source": [
    "### Summarizing a factor\n",
    "After finishing this course, one of your favorite functions in R will be summary(). This will give you a quick overview of the contents of a variable:\n",
    "\n",
    "summary(my_var)\n",
    "Going back to our survey, you would like to know how many \"Male\" responses you have in your study, and how many \"Female\" responses. The summary() function gives you the answer to this question."
   ]
  },
  {
   "cell_type": "markdown",
   "id": "d522c5da",
   "metadata": {},
   "source": [
    "#### Instructions\n",
    "Ask a summary() of the survey_vector and factor_survey_vector. Interpret the results of both vectors. Are they both equally useful in this case?"
   ]
  },
  {
   "cell_type": "code",
   "execution_count": null,
   "id": "2e677520",
   "metadata": {},
   "outputs": [],
   "source": [
    "# Build factor_survey_vector with clean levels\n",
    "survey_vector <- c(\"M\", \"F\", \"F\", \"M\", \"M\")\n",
    "factor_survey_vector <- factor(survey_vector)\n",
    "levels(factor_survey_vector) <- c(\"Female\", \"Male\")\n",
    "factor_survey_vector\n",
    "\n",
    "# Generate summary for survey_vector\n",
    "summary(survey_vector)\n",
    "\n",
    "# Generate summary for factor_survey_vector\n",
    "summary(factor_survey_vector)"
   ]
  },
  {
   "cell_type": "markdown",
   "id": "03174bd0",
   "metadata": {},
   "source": [
    "### Battle of the sexes\n",
    "You might wonder what happens when you try to compare elements of a factor. In factor_survey_vector you have a factor with two levels: \"Male\" and \"Female\". But how does R value these relative to each other?"
   ]
  },
  {
   "cell_type": "markdown",
   "id": "6f9d5c2e",
   "metadata": {},
   "source": [
    "#### Instructions\n",
    "Read the code in the editor and submit the answer to test if male is greater than (>) female."
   ]
  },
  {
   "cell_type": "code",
   "execution_count": null,
   "id": "63ec8869",
   "metadata": {},
   "outputs": [],
   "source": [
    "# Build factor_survey_vector with clean levels\n",
    "survey_vector <- c(\"M\", \"F\", \"F\", \"M\", \"M\")\n",
    "factor_survey_vector <- factor(survey_vector)\n",
    "levels(factor_survey_vector) <- c(\"Female\", \"Male\")\n",
    "\n",
    "# Male\n",
    "male <- factor_survey_vector[1]\n",
    "\n",
    "# Female\n",
    "female <- factor_survey_vector[2]\n",
    "\n",
    "# Battle of the sexes: Male 'larger' than female?\n",
    "male > female"
   ]
  },
  {
   "cell_type": "markdown",
   "id": "8788b80e",
   "metadata": {},
   "source": [
    "### Ordered factors\n",
    "Since \"Male\" and \"Female\" are unordered (or nominal) factor levels, R returns a warning message, telling you that the greater than operator is not meaningful. As seen before, R attaches an equal value to the levels for such factors.\n",
    "\n",
    "But this is not always the case! Sometimes you will also deal with factors that do have a natural ordering between its categories. If this is the case, we have to make sure that we pass this information to R…\n",
    "\n",
    "Let us say that you are leading a research team of five data analysts and that you want to evaluate their performance. To do this, you track their speed, evaluate each analyst as \"slow\", \"medium\" or \"fast\", and save the results in speed_vector."
   ]
  },
  {
   "cell_type": "markdown",
   "id": "b15f46c2",
   "metadata": {},
   "source": [
    "#### Instructions\n",
    "As a first step, assign speed_vector a vector with 5 entries, one for each analyst. Each entry should be either \"slow\", \"medium\", or \"fast\". Use the list below:\n",
    "\n",
    "Analyst 1 is medium,\n",
    "Analyst 2 is slow,\n",
    "Analyst 3 is slow,\n",
    "Analyst 4 is medium and\n",
    "Analyst 5 is fast.\n",
    "No need to specify these are factors yet."
   ]
  },
  {
   "cell_type": "code",
   "execution_count": null,
   "id": "9d491369",
   "metadata": {},
   "outputs": [],
   "source": [
    "# Create speed_vector\n",
    "speed_vector <- c(\"medium\", \"slow\", \"slow\", \"medium\", \"fast\")"
   ]
  },
  {
   "cell_type": "markdown",
   "id": "d7e4520b",
   "metadata": {},
   "source": [
    "### Ordered factors (2)\n",
    "speed_vector should be converted to an ordinal factor since its categories have a natural ordering. By default, the function factor() transforms speed_vector into an unordered factor. To create an ordered factor, you have to add two additional arguments: ordered and levels.\n",
    "\n",
    "factor(some_vector,\n",
    "       ordered = TRUE,\n",
    "       levels = c(\"lev1\", \"lev2\" ...))\n",
    "By setting the argument ordered to TRUE in the function factor(), you indicate that the factor is ordered. With the argument levels you give the values of the factor in the correct order."
   ]
  },
  {
   "cell_type": "markdown",
   "id": "5289ca19",
   "metadata": {},
   "source": [
    "#### Instructions\n",
    "From speed_vector, create an ordered factor vector: factor_speed_vector. Set ordered to TRUE, and set levels to c(\"slow\", \"medium\", \"fast\")."
   ]
  },
  {
   "cell_type": "code",
   "execution_count": null,
   "id": "1bf1fb29",
   "metadata": {},
   "outputs": [],
   "source": [
    "# Create speed_vector\n",
    "speed_vector <- c(\"medium\", \"slow\", \"slow\", \"medium\", \"fast\")\n",
    "\n",
    "# Convert speed_vector to ordered factor vector\n",
    "factor_speed_vector <- factor(speed_vector, \n",
    "                                ordered = TRUE,\n",
    "                                levels = c(\"slow\", \"medium\", \"fast\"))\n",
    "\n",
    "# Print factor_speed_vector\n",
    "factor_speed_vector\n",
    "summary(factor_speed_vector)"
   ]
  },
  {
   "cell_type": "markdown",
   "id": "c04d6096",
   "metadata": {},
   "source": [
    "### Comparing ordered factors\n",
    "Having a bad day at work, 'data analyst number two' enters your office and starts complaining that 'data analyst number five' is slowing down the entire project. Since you know that 'data analyst number two' has the reputation of being a smarty-pants, you first decide to check if his statement is true.\n",
    "\n",
    "The fact that factor_speed_vector is now ordered enables us to compare different elements (the data analysts in this case). You can simply do this by using the well-known operators."
   ]
  },
  {
   "cell_type": "markdown",
   "id": "114ecfa2",
   "metadata": {},
   "source": [
    "#### Instructions\n",
    "Use [2] to select from factor_speed_vector the factor value for the second data analyst. Store it as da2.\n",
    "Use [5] to select the factor_speed_vector factor value for the fifth data analyst. Store it as da5.\n",
    "Check if da2 is greater than da5; simply print out the result. Remember that you can use the > operator to check whether one element is larger than the other."
   ]
  },
  {
   "cell_type": "code",
   "execution_count": null,
   "id": "e4d369e7",
   "metadata": {},
   "outputs": [],
   "source": [
    "# Create factor_speed_vector\n",
    "speed_vector <- c(\"medium\", \"slow\", \"slow\", \"medium\", \"fast\")\n",
    "factor_speed_vector <- factor(speed_vector, ordered = TRUE, levels = c(\"slow\", \"medium\", \"fast\"))\n",
    "\n",
    "# Factor value for second data analyst\n",
    "da2 <- factor_speed_vector[2]\n",
    "\n",
    "# Factor value for fifth data analyst\n",
    "da5 <- factor_speed_vector[5]\n",
    "\n",
    "# Is data analyst 2 faster than data analyst 5?\n",
    "da2 > da5"
   ]
  },
  {
   "cell_type": "markdown",
   "id": "bf5b1d5b",
   "metadata": {},
   "source": [
    "## 5. Data Frames"
   ]
  },
  {
   "cell_type": "markdown",
   "id": "4821927c",
   "metadata": {},
   "source": [
    "### What's a data frame?\n",
    "You may remember from the chapter about matrices that all the elements that you put in a matrix should be of the same type. Back then, your dataset on Star Wars only contained numeric elements.\n",
    "\n",
    "When doing a market research survey, however, you often have questions such as:\n",
    "\n",
    "'Are you married?' or 'yes/no' questions (logical)\n",
    "'How old are you?' (numeric)\n",
    "'What is your opinion on this product?' or other 'open-ended' questions (character)\n",
    "…\n",
    "The output, namely the respondents' answers to the questions formulated above, is a dataset of different data types. You will often find yourself working with datasets that contain different data types instead of only one.\n",
    "\n",
    "A data frame has the variables of a dataset as columns and the observations as rows. This will be a familiar concept for those coming from different statistical software packages such as SAS or SPSS."
   ]
  },
  {
   "cell_type": "markdown",
   "id": "12f2fdad",
   "metadata": {},
   "source": [
    "#### Instructions\n",
    "Submit the answer. The data from the built-in example data frame mtcars will be printed to the console."
   ]
  },
  {
   "cell_type": "code",
   "execution_count": null,
   "id": "c4abbb95",
   "metadata": {},
   "outputs": [],
   "source": [
    "# Print out built-in R data frame\n",
    "mtcars "
   ]
  },
  {
   "cell_type": "markdown",
   "id": "98ed9ac2",
   "metadata": {},
   "source": [
    "### Quick, have a look at your dataset\n",
    "Wow, that is a lot of cars!\n",
    "\n",
    "Working with large datasets is not uncommon in data analysis. When you work with (extremely) large datasets and data frames, your first task as a data analyst is to develop a clear understanding of its structure and main elements. Therefore, it is often useful to show only a small part of the entire dataset.\n",
    "\n",
    "So how to do this in R? Well, the function head() enables you to show the first observations of a data frame. Similarly, the function tail() prints out the last observations in your dataset.\n",
    "\n",
    "Both head() and tail() print a top line called the 'header', which contains the names of the different variables in your dataset."
   ]
  },
  {
   "cell_type": "markdown",
   "id": "62f0f1ab",
   "metadata": {},
   "source": [
    "#### Instructions\n",
    "Call head() on the mtcars dataset to have a look at the header and the first observations."
   ]
  },
  {
   "cell_type": "code",
   "execution_count": null,
   "id": "61b7dc76",
   "metadata": {},
   "outputs": [],
   "source": [
    "# Call head() on mtcars\n",
    "head(mtcars)"
   ]
  },
  {
   "cell_type": "markdown",
   "id": "397ed44b",
   "metadata": {},
   "source": [
    "### Have a look at the structure\n",
    "Another method that is often used to get a rapid overview of your data is the function str(). The function str() shows you the structure of your dataset. For a data frame it tells you:\n",
    "\n",
    "The total number of observations (e.g. 32 car types)\n",
    "The total number of variables (e.g. 11 car features)\n",
    "A full list of the variables names (e.g. mpg, cyl … )\n",
    "The data type of each variable (e.g. num)\n",
    "The first observations\n",
    "Applying the str() function will often be the first thing that you do when receiving a new dataset or data frame. It is a great way to get more insight in your dataset before diving into the real analysis."
   ]
  },
  {
   "cell_type": "markdown",
   "id": "46463741",
   "metadata": {},
   "source": [
    "#### Instructions\n",
    "Investigate the structure of mtcars. Make sure that you see the same numbers, variables and data types as mentioned above."
   ]
  },
  {
   "cell_type": "code",
   "execution_count": null,
   "id": "2f20aeab",
   "metadata": {},
   "outputs": [],
   "source": [
    "# Investigate the structure of mtcars\n",
    "str(mtcars)"
   ]
  },
  {
   "cell_type": "markdown",
   "id": "9ca0555f",
   "metadata": {},
   "source": [
    "### Creating a data frame\n",
    "Since using built-in datasets is not even half the fun of creating your own datasets, the rest of this chapter is based on your personally developed dataset. Put your jet pack on because it is time for some space exploration!\n",
    "\n",
    "As a first goal, you want to construct a data frame that describes the main characteristics of eight planets in our solar system. According to your good friend Buzz, the main features of a planet are:\n",
    "\n",
    "The type of planet (Terrestrial or Gas Giant).\n",
    "The planet's diameter relative to the diameter of the Earth.\n",
    "The planet's rotation across the sun relative to that of the Earth.\n",
    "If the planet has rings or not (TRUE or FALSE).\n",
    "After doing some high-quality research on Wikipedia, you feel confident enough to create the necessary vectors: name, type, diameter, rotation and rings; these vectors have already been coded up in the editor. The first element in each of these vectors correspond to the first observation.\n",
    "\n",
    "You construct a data frame with the data.frame() function. As arguments, you pass the vectors from before: they will become the different columns of your data frame. Because every column has the same length, the vectors you pass should also have the same length. But don't forget that it is possible (and likely) that they contain different types of data."
   ]
  },
  {
   "cell_type": "markdown",
   "id": "9324f6a1",
   "metadata": {},
   "source": [
    "#### Instructions\n",
    "Use the function data.frame() to construct a data frame. Pass the vectors name, type, diameter, rotation and rings as arguments to data.frame(), in this order. Call the resulting data frame planets_df."
   ]
  },
  {
   "cell_type": "code",
   "execution_count": null,
   "id": "40970027",
   "metadata": {},
   "outputs": [],
   "source": [
    "# Definition of vectors\n",
    "name <- c(\"Mercury\", \"Venus\", \"Earth\", \n",
    "          \"Mars\", \"Jupiter\", \"Saturn\", \n",
    "          \"Uranus\", \"Neptune\")\n",
    "type <- c(\"Terrestrial planet\", \n",
    "          \"Terrestrial planet\", \n",
    "          \"Terrestrial planet\", \n",
    "          \"Terrestrial planet\", \"Gas giant\", \n",
    "          \"Gas giant\", \"Gas giant\", \"Gas giant\")\n",
    "diameter <- c(0.382, 0.949, 1, 0.532, \n",
    "              11.209, 9.449, 4.007, 3.883)\n",
    "rotation <- c(58.64, -243.02, 1, 1.03, \n",
    "              0.41, 0.43, -0.72, 0.67)\n",
    "rings <- c(FALSE, FALSE, FALSE, FALSE, TRUE, TRUE, TRUE, TRUE)\n",
    "\n",
    "# Create a data frame from the vectors\n",
    "planets_df <- data.frame(name, type, diameter, rotation, rings)"
   ]
  },
  {
   "cell_type": "markdown",
   "id": "f46f640a",
   "metadata": {},
   "source": [
    "### Creating a data frame (2)\n",
    "The planets_df data frame should have 8 observations and 5 variables. It has been made available in the workspace, so you can directly use it."
   ]
  },
  {
   "cell_type": "markdown",
   "id": "36995102",
   "metadata": {},
   "source": [
    "#### Instructions \n",
    "Use str() to investigate the structure of the new planets_df variable."
   ]
  },
  {
   "cell_type": "code",
   "execution_count": null,
   "id": "62595bf7",
   "metadata": {},
   "outputs": [],
   "source": [
    "# Check the structure of planets_df\n",
    "str(planets_df)"
   ]
  },
  {
   "cell_type": "markdown",
   "id": "351c00a5",
   "metadata": {},
   "source": [
    "### Selection of data frame elements\n",
    "Similar to vectors and matrices, you select elements from a data frame with the help of square brackets [ ]. By using a comma, you can indicate what to select from the rows and the columns respectively. For example:\n",
    "\n",
    "my_df[1,2] selects the value at the first row and second column in my_df.\n",
    "my_df[1:3,2:4] selects rows 1, 2, 3 and columns 2, 3, 4 in my_df.\n",
    "Sometimes you want to select all elements of a row or column. For example, my_df[1, ] selects all elements of the first row. Let us now apply this technique on planets_df!"
   ]
  },
  {
   "cell_type": "markdown",
   "id": "48669e9d",
   "metadata": {},
   "source": [
    "#### Instructions\n",
    "From planets_df, select the diameter of Mercury: this is the value at the first row and the third column. Simply print out the result.\n",
    "From planets_df, select all data on Mars (the fourth row). Simply print out the result."
   ]
  },
  {
   "cell_type": "code",
   "execution_count": null,
   "id": "53b947aa",
   "metadata": {},
   "outputs": [],
   "source": [
    "# The planets_df data frame from the previous exercise is pre-loaded\n",
    "\n",
    "# Print out diameter of Mercury (row 1, column 3)\n",
    "print(planets_df[1,3])\n",
    "\n",
    "# Print out data for Mars (entire fourth row)\n",
    "print(planets_df[4,])"
   ]
  },
  {
   "cell_type": "markdown",
   "id": "d130bf4e",
   "metadata": {},
   "source": [
    "### Selection of data frame elements (2)\n",
    "Instead of using numerics to select elements of a data frame, you can also use the variable names to select columns of a data frame.\n",
    "\n",
    "Suppose you want to select the first three elements of the type column. One way to do this is\n",
    "\n",
    "planets_df[1:3,2]\n",
    "A possible disadvantage of this approach is that you have to know (or look up) the column number of type, which gets hard if you have a lot of variables. It is often easier to just make use of the variable name:\n",
    "\n",
    "planets_df[1:3,\"type\"]"
   ]
  },
  {
   "cell_type": "markdown",
   "id": "48a59b64",
   "metadata": {},
   "source": [
    "#### Instructions\n",
    "Select and print out the first 5 values in the \"diameter\" column of planets_df."
   ]
  },
  {
   "cell_type": "code",
   "execution_count": null,
   "id": "10ed5c88",
   "metadata": {},
   "outputs": [],
   "source": [
    "# The planets_df data frame from the previous exercise is pre-loaded\n",
    "\n",
    "# Select first 5 values of diameter column\n",
    "planets_df[1:5, \"diameter\"]"
   ]
  },
  {
   "cell_type": "markdown",
   "id": "b2566091",
   "metadata": {},
   "source": [
    "### Only planets with rings\n",
    "You will often want to select an entire column, namely one specific variable from a data frame. If you want to select all elements of the variable diameter, for example, both of these will do the trick:\n",
    "\n",
    "planets_df[,3]\n",
    "planets_df[,\"diameter\"]\n",
    "However, there is a short-cut. If your columns have names, you can use the $ sign:\n",
    "\n",
    "planets_df$diameter"
   ]
  },
  {
   "cell_type": "markdown",
   "id": "d4efa3e1",
   "metadata": {},
   "source": [
    "#### Instructions\n",
    "Use the $ sign to select the rings variable from planets_df. Store the vector that results as rings_vector.\n",
    "Print out rings_vector to see if you got it right."
   ]
  },
  {
   "cell_type": "code",
   "execution_count": null,
   "id": "829a64b0",
   "metadata": {},
   "outputs": [],
   "source": [
    "# planets_df is pre-loaded in your workspace\n",
    "\n",
    "# Select the rings variable from planets_df\n",
    "rings_vector <- planets_df$rings\n",
    "  \n",
    "# Print out rings_vector\n",
    "rings_vector"
   ]
  },
  {
   "cell_type": "markdown",
   "id": "6ca866af",
   "metadata": {},
   "source": [
    "### Only planets with rings (2)\n",
    "You probably remember from high school that some planets in our solar system have rings and others do not. Unfortunately you can not recall their names. Could R help you out?\n",
    "\n",
    "If you type rings_vector in the console, you get:\n",
    "\n",
    "[1] FALSE FALSE FALSE FALSE  TRUE  TRUE  TRUE  TRUE\n",
    "This means that the first four observations (or planets) do not have a ring (FALSE), but the other four do (TRUE). However, you do not get a nice overview of the names of these planets, their diameter, etc. Let's try to use rings_vector to select the data for the four planets with rings."
   ]
  },
  {
   "cell_type": "markdown",
   "id": "e396d5c4",
   "metadata": {},
   "source": [
    "#### Instructions\n",
    "The code in the editor selects the name column of all planets that have rings. Adapt the code so that instead of only the name column, all columns for planets that have rings are selected."
   ]
  },
  {
   "cell_type": "code",
   "execution_count": null,
   "id": "0b7bd497",
   "metadata": {},
   "outputs": [],
   "source": [
    "# planets_df and rings_vector are pre-loaded in your workspace\n",
    "\n",
    "# Adapt the code to select all columns for planets with rings\n",
    "planets_df[rings_vector, ]"
   ]
  },
  {
   "cell_type": "markdown",
   "id": "0a704483",
   "metadata": {},
   "source": [
    "### Only planets with rings but shorter\n",
    "So what exactly did you learn in the previous exercises? You selected a subset from a data frame (planets_df) based on whether or not a certain condition was true (rings or no rings), and you managed to pull out all relevant data. Pretty awesome! By now, NASA is probably already flirting with your CV ;-).\n",
    "\n",
    "Now, let us move up one level and use the function subset(). You should see the subset() function as a short-cut to do exactly the same as what you did in the previous exercises.\n",
    "\n",
    "subset(my_df, subset = some_condition)\n",
    "The first argument of subset() specifies the dataset for which you want a subset. By adding the second argument, you give R the necessary information and conditions to select the correct subset.\n",
    "\n",
    "The code below will give the exact same result as you got in the previous exercise, but this time, you didn't need the rings_vector!\n",
    "\n",
    "subset(planets_df, subset = rings)"
   ]
  },
  {
   "cell_type": "markdown",
   "id": "e97496ed",
   "metadata": {},
   "source": [
    "#### Instructions\n",
    "Use subset() on planets_df to select planets that have a diameter smaller than Earth. Because the diameter variable is a relative measure of the planet's diameter w.r.t that of planet Earth, your condition is diameter < 1."
   ]
  },
  {
   "cell_type": "code",
   "execution_count": null,
   "id": "90ed6db6",
   "metadata": {},
   "outputs": [],
   "source": [
    "# planets_df is pre-loaded in your workspace\n",
    "\n",
    "# Select planets with diameter < 1\n",
    "subset(planets_df, subset = diameter < 1)"
   ]
  },
  {
   "cell_type": "markdown",
   "id": "04763877",
   "metadata": {},
   "source": [
    "### Sorting\n",
    "Making and creating rankings is one of mankind's favorite affairs. These rankings can be useful (best universities in the world), entertaining (most influential movie stars) or pointless (best 007 look-a-like).\n",
    "\n",
    "In data analysis you can sort your data according to a certain variable in the dataset. In R, this is done with the help of the function order().\n",
    "\n",
    "order() is a function that gives you the ranked position of each element when it is applied on a variable, such as a vector for example:\n",
    "\n",
    "a <- c(100, 10, 1000)\n",
    "order(a)\n",
    "[1] 2 1 3\n",
    "10, which is the second element in a, is the smallest element, so 2 comes first in the output of order(a). 100, which is the first element in a is the second smallest element, so 1 comes second in the output of order(a).\n",
    "\n",
    "This means we can use the output of order(a) to reshuffle a:\n",
    "\n",
    "a[order(a)]\n",
    "[1]   10  100 1000"
   ]
  },
  {
   "cell_type": "markdown",
   "id": "a48ea965",
   "metadata": {},
   "source": [
    "#### Instructions\n",
    "Experiment with the order() function in the console. Submit the answer when you are ready to continue."
   ]
  },
  {
   "cell_type": "code",
   "execution_count": null,
   "id": "6ce6d4e2",
   "metadata": {},
   "outputs": [],
   "source": [
    "# Play around with the order function in the console\n",
    "a <- c(99, 7, 21)\n",
    "order(a)\n",
    "a[order(a)]"
   ]
  },
  {
   "cell_type": "markdown",
   "id": "267ec482",
   "metadata": {},
   "source": [
    "### Sorting your data frame\n",
    "Alright, now that you understand the order() function, let us do something useful with it. You would like to rearrange your data frame such that it starts with the smallest planet and ends with the largest one. A sort on the diameter column."
   ]
  },
  {
   "cell_type": "markdown",
   "id": "081ba94d",
   "metadata": {},
   "source": [
    "#### Instructions\n",
    "Call order() on planets_df$diameter (the diameter column of planets_df). Store the result as positions.\n",
    "Now reshuffle planets_df with the positions vector as row indexes inside square brackets. Keep all columns. Simply print out the result."
   ]
  },
  {
   "cell_type": "code",
   "execution_count": null,
   "id": "986bf9d7",
   "metadata": {},
   "outputs": [],
   "source": [
    "# planets_df is pre-loaded in your workspace\n",
    "\n",
    "# Use order() to create positions\n",
    "positions <-  order(planets_df$diameter)\n",
    "\n",
    "# Use positions to sort planets_df\n",
    "planets_df[positions, ]"
   ]
  },
  {
   "cell_type": "markdown",
   "id": "2ae146b0",
   "metadata": {},
   "source": [
    "## 6. Lists"
   ]
  },
  {
   "cell_type": "markdown",
   "id": "a9b36a1d",
   "metadata": {},
   "source": [
    "### Lists, why would you need them?\n",
    "Congratulations! At this point in the course you are already familiar with:\n",
    "\n",
    "Vectors (one dimensional array): can hold numeric, character or logical values. The elements in a vector all have the same data type.\n",
    "Matrices (two dimensional array): can hold numeric, character or logical values. The elements in a matrix all have the same data type.\n",
    "Data frames (two-dimensional objects): can hold numeric, character or logical values. Within a column all elements have the same data type, but different columns can be of different data type.\n",
    "Pretty sweet for an R newbie, right? ;-)"
   ]
  },
  {
   "cell_type": "markdown",
   "id": "324cfb9a",
   "metadata": {},
   "source": [
    "#### Instructions\n",
    "Submit the answer to start learning everything about lists!"
   ]
  },
  {
   "cell_type": "code",
   "execution_count": null,
   "id": "b0e74196",
   "metadata": {},
   "outputs": [],
   "source": [
    "# Just submit the answer"
   ]
  },
  {
   "cell_type": "markdown",
   "id": "ccc93de6",
   "metadata": {},
   "source": [
    "### Lists, why would you need them? (2)\n",
    "A list in R is similar to your to-do list at work or school: the different items on that list most likely differ in length, characteristic, and type of activity that has to be done.\n",
    "\n",
    "A list in R allows you to gather a variety of objects under one name (that is, the name of the list) in an ordered way. These objects can be matrices, vectors, data frames, even other lists, etc. It is not even required that these objects are related to each other in any way.\n",
    "\n",
    "You could say that a list is some kind super data type: you can store practically any piece of information in it!"
   ]
  },
  {
   "cell_type": "markdown",
   "id": "3cd3fee7",
   "metadata": {},
   "source": [
    "#### Instructions\n",
    "Just submit the answer to start the first exercise on lists."
   ]
  },
  {
   "cell_type": "code",
   "execution_count": null,
   "id": "9a63acd0",
   "metadata": {},
   "outputs": [],
   "source": [
    "# Just submit the answer to start the first exercise on lists."
   ]
  },
  {
   "cell_type": "markdown",
   "id": "7525f832",
   "metadata": {},
   "source": [
    "### Creating a list\n",
    "Let us create our first list! To construct a list you use the function list():\n",
    "\n",
    "my_list <- list(comp1, comp2 ...)\n",
    "The arguments to the list function are the list components. Remember, these components can be matrices, vectors, other lists, …"
   ]
  },
  {
   "cell_type": "markdown",
   "id": "3bd20162",
   "metadata": {},
   "source": [
    "#### Instructions\n",
    "Construct a list, named my_list, that contains the variables my_vector, my_matrix and my_df as list components."
   ]
  },
  {
   "cell_type": "code",
   "execution_count": null,
   "id": "e99453d9",
   "metadata": {},
   "outputs": [],
   "source": [
    "# Vector with numerics from 1 up to 10\n",
    "my_vector <- 1:10 \n",
    "\n",
    "# Matrix with numerics from 1 up to 9\n",
    "my_matrix <- matrix(1:9, ncol = 3)\n",
    "\n",
    "# First 10 elements of the built-in data frame mtcars\n",
    "my_df <- mtcars[1:10,]\n",
    "\n",
    "# Construct list with these different elements:\n",
    "my_list <- list(my_vector, my_matrix, my_df)"
   ]
  },
  {
   "cell_type": "markdown",
   "id": "2e8aaf42",
   "metadata": {},
   "source": [
    "### Creating a named list\n",
    "Well done, you're on a roll!\n",
    "\n",
    "Just like on your to-do list, you want to avoid not knowing or remembering what the components of your list stand for. That is why you should give names to them:\n",
    "\n",
    "my_list <- list(name1 = your_comp1, \n",
    "                name2 = your_comp2)\n",
    "This creates a list with components that are named name1, name2, and so on. If you want to name your lists after you've created them, you can use the names() function as you did with vectors. The following commands are fully equivalent to the assignment above:\n",
    "\n",
    "my_list <- list(your_comp1, your_comp2)\n",
    "names(my_list) <- c(\"name1\", \"name2\")"
   ]
  },
  {
   "cell_type": "markdown",
   "id": "a9d19cd2",
   "metadata": {},
   "source": [
    "#### Instructions\n",
    "Change the code of the previous exercise (see editor) by adding names to the components. Use for my_vector the name vec, for my_matrix the name mat and for my_df the name df.\n",
    "Print out my_list so you can inspect the output."
   ]
  },
  {
   "cell_type": "code",
   "execution_count": null,
   "id": "47e84787",
   "metadata": {},
   "outputs": [],
   "source": [
    "# Vector with numerics from 1 up to 10\n",
    "my_vector <- 1:10 \n",
    "\n",
    "# Matrix with numerics from 1 up to 9\n",
    "my_matrix <- matrix(1:9, ncol = 3)\n",
    "\n",
    "# First 10 elements of the built-in data frame mtcars\n",
    "my_df <- mtcars[1:10,]\n",
    "\n",
    "# Adapt list() call to give the components names\n",
    "my_list <- list(vec = my_vector, mat = my_matrix, df = my_df)\n",
    "\n",
    "# Print out my_list\n",
    "my_list"
   ]
  },
  {
   "cell_type": "markdown",
   "id": "f44892f3",
   "metadata": {},
   "source": [
    "### Creating a named list (2)\n",
    "Being a huge movie fan (remember your job at LucasFilms), you decide to start storing information on good movies with the help of lists.\n",
    "\n",
    "Start by creating a list for the movie \"The Shining\". We have already created the variables mov, act and rev in your R workspace. Feel free to check them out in the console."
   ]
  },
  {
   "cell_type": "markdown",
   "id": "ff9ece9d",
   "metadata": {},
   "source": [
    "#### Instructions\n",
    "Complete the code in the editor to create shining_list; it contains three elements:\n",
    "\n",
    "moviename: a character string with the movie title (stored in mov)\n",
    "actors: a vector with the main actors' names (stored in act)\n",
    "reviews: a data frame that contains some reviews (stored in rev)\n",
    "Do not forget to name the list components accordingly (names are moviename, actors and reviews)."
   ]
  },
  {
   "cell_type": "code",
   "execution_count": null,
   "id": "dc72b56a",
   "metadata": {},
   "outputs": [],
   "source": [
    "# The variables mov, act and rev are available\n",
    "\n",
    "# Finish the code to build shining_list\n",
    "shining_list <- list(moviename = mov, actors = act, reviews = rev)"
   ]
  },
  {
   "cell_type": "markdown",
   "id": "dd428185",
   "metadata": {},
   "source": [
    "### Selecting elements from a list\n",
    "Your list will often be built out of numerous elements and components. Therefore, getting a single element, multiple elements, or a component out of it is not always straightforward.\n",
    "\n",
    "One way to select a component is using the numbered position of that component. For example, to \"grab\" the first component of shining_list you type\n",
    "\n",
    "shining_list[[1]]\n",
    "A quick way to check this out is typing it in the console. Important to remember: to select elements from vectors, you use single square brackets: [ ]. Don't mix them up!\n",
    "\n",
    "You can also refer to the names of the components, with [[ ]] or with the $ sign. Both will select the data frame representing the reviews:\n",
    "\n",
    "shining_list[[\"reviews\"]]\n",
    "shining_list$reviews\n",
    "Besides selecting components, you often need to select specific elements out of these components. For example, with shining_list[[2]][1] you select from the second component, actors (shining_list[[2]]), the first element ([1]). When you type this in the console, you will see the answer is Jack Nicholson."
   ]
  },
  {
   "cell_type": "markdown",
   "id": "c2ebf9d1",
   "metadata": {},
   "source": [
    "#### Instructions\n",
    "Select from shining_list the vector representing the actors. Simply print out this vector.\n",
    "Select from shining_list the second element in the vector representing the actors. Do a printout like before."
   ]
  },
  {
   "cell_type": "code",
   "execution_count": null,
   "id": "17c37058",
   "metadata": {},
   "outputs": [],
   "source": [
    "# shining_list is already pre-loaded in the workspace\n",
    "\n",
    "# Print out the vector representing the actors\n",
    "shining_list$actors\n",
    "\n",
    "# Print the second element of the vector representing the actors\n",
    "shining_list$actors[[2]]"
   ]
  },
  {
   "cell_type": "markdown",
   "id": "08e0e1a1",
   "metadata": {},
   "source": [
    "### Creating a new list for another movie\n",
    "You found reviews of another, more recent, Jack Nicholson movie: The Departed!\n",
    "\n",
    "Scores\tComments\n",
    "4.6\tI would watch it again\n",
    "5\tAmazing!\n",
    "4.8\tI liked it\n",
    "5\tOne of the best movies\n",
    "4.2\tFascinating plot\n",
    "It would be useful to collect together all the pieces of information about the movie, like the title, actors, and reviews into a single variable. Since these pieces of data are different shapes, it is natural to combine them in a list variable.\n",
    "\n",
    "movie_title, containing the title of the movie, and movie_actors, containing the names of some of the actors in the movie, are available in your workspace."
   ]
  },
  {
   "cell_type": "markdown",
   "id": "d62cb0ca",
   "metadata": {},
   "source": [
    "#### Instructions\n",
    "Create two vectors, called scores and comments, that contain the information from the reviews shown in the table.\n",
    "Find the average of the scores vector and save it as avg_review.\n",
    "Combine the scores and comments vectors into a data frame called reviews_df.\n",
    "Create a list, called departed_list, that contains the movie_title, movie_actors, reviews data frame as reviews_df, and the average review score as avg_review, and print it out."
   ]
  },
  {
   "cell_type": "code",
   "execution_count": null,
   "id": "a3e03b66",
   "metadata": {},
   "outputs": [],
   "source": [
    "# Use the table from the exercise to define the comments and scores vectors\n",
    "scores <- c(4.6, 5, 4.8, 5, 4.2)\n",
    "comments <- c(\"I would watch it again\", \"Amazing!\", \"I liked it\", \"One of the best movies\", \"Fascinating plot\")\n",
    "\n",
    "# Save the average of the scores vector as avg_review\n",
    "avg_review <- mean(scores) \n",
    "\n",
    "# Combine scores and comments into the reviews_df data frame\n",
    "reviews_df <- data.frame(scores, comments)\n",
    "\n",
    "# Create and print out a list, called departed_list\n",
    "departed_list <- list(movie_title, movie_actors, reviews_df, avg_review)\n",
    "departed_list"
   ]
  }
 ],
 "metadata": {
  "kernelspec": {
   "display_name": "Python 3 (ipykernel)",
   "language": "python",
   "name": "python3"
  },
  "language_info": {
   "codemirror_mode": {
    "name": "ipython",
    "version": 3
   },
   "file_extension": ".py",
   "mimetype": "text/x-python",
   "name": "python",
   "nbconvert_exporter": "python",
   "pygments_lexer": "ipython3",
   "version": "3.11.3"
  }
 },
 "nbformat": 4,
 "nbformat_minor": 5
}
